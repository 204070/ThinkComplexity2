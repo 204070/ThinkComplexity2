{
 "cells": [
  {
   "cell_type": "markdown",
   "metadata": {},
   "source": [
    "# Evolution of cooperation\n",
    "\n",
    "Code examples from [Think Complexity, 2nd edition](http://greenteapress.com/wp/complexity2), Chapter 12\n",
    "\n",
    "Copyright 2016 Allen Downey, [MIT License](http://opensource.org/licenses/MIT)"
   ]
  },
  {
   "cell_type": "code",
   "execution_count": 714,
   "metadata": {
    "collapsed": true
   },
   "outputs": [],
   "source": [
    "from __future__ import print_function, division\n",
    "\n",
    "%matplotlib inline\n",
    "%precision 3\n",
    "\n",
    "import warnings\n",
    "warnings.filterwarnings('ignore')\n",
    "\n",
    "from copy import copy\n",
    "\n",
    "import numpy as np\n",
    "from numpy.random import rand, randint, permutation\n",
    "\n",
    "import random\n",
    "\n",
    "from thinkstats2 import RandomSeed\n",
    "\n",
    "import thinkplot"
   ]
  },
  {
   "cell_type": "code",
   "execution_count": 785,
   "metadata": {
    "collapsed": true
   },
   "outputs": [],
   "source": [
    "HIST_LENGTH = 1"
   ]
  },
  {
   "cell_type": "code",
   "execution_count": 800,
   "metadata": {},
   "outputs": [],
   "source": [
    "class Agent:\n",
    "    \n",
    "    if HIST_LENGTH == 1:\n",
    "        keys = [(None,),\n",
    "                ('C',),\n",
    "                ('D',)]\n",
    "    else:\n",
    "        keys = [(None, None),\n",
    "                (None, 'C'),\n",
    "                (None, 'D'),\n",
    "                ('C', 'C'),\n",
    "                ('C', 'D'),\n",
    "                ('D', 'C'),\n",
    "                ('D', 'D')]\n",
    "    \n",
    "    def __init__(self, values):\n",
    "        \"\"\"Initialize the agent.\n",
    "        \n",
    "        values: sequence of 'C' and 'D'\n",
    "        \"\"\"\n",
    "        self.values = values\n",
    "        self.responses = dict(zip(self.keys, values))\n",
    "        \n",
    "    def reset(self):\n",
    "        \"\"\"Reset variables before a sequence of games.\n",
    "        \"\"\"\n",
    "        self.hist = [None, None]\n",
    "        self.score = 0\n",
    "        \n",
    "    def past_responses(self, num=HIST_LENGTH):\n",
    "        \"\"\"Select the given number of most recent responses.\n",
    "        \n",
    "        num: integer number of responses\n",
    "        \n",
    "        returns: sequence of 'C' and 'D'\n",
    "        \"\"\"\n",
    "        return tuple(self.hist[-num:])\n",
    "    \n",
    "    def respond(self, other):\n",
    "        \"\"\"Choose a response based on the opponent's recent responses.\n",
    "        \n",
    "        other: Agent\n",
    "        \n",
    "        returns: 'C' or 'D'\n",
    "        \"\"\"\n",
    "        key = other.past_responses()\n",
    "        resp = self.responses[key]\n",
    "        return resp\n",
    "        \n",
    "    def append(self, resp, pay):\n",
    "        \"\"\"Update based on the last response and payoff.\n",
    "        \n",
    "        resp: 'C' or 'D'\n",
    "        pay: number\n",
    "        \"\"\"\n",
    "        self.hist.append(resp)\n",
    "        self.score += pay\n",
    "        \n",
    "    prob_mutate = 0.05\n",
    "    \n",
    "    def copy(self):\n",
    "        \"\"\"Make a copy of this agent.\n",
    "        \"\"\"\n",
    "        if np.random.random() > self.prob_mutate:\n",
    "            values = self.values\n",
    "        else:\n",
    "            values = self.mutate()\n",
    "        return Agent(values)\n",
    "    \n",
    "    def mutate(self):\n",
    "        \"\"\"Makes a copy of this agent's values, with one mutation.\n",
    "        \n",
    "        returns: sequence of 'C' and 'D'\n",
    "        \"\"\"\n",
    "        values = list(self.values)\n",
    "        index = np.random.choice(len(values))\n",
    "        values[index] = 'C' if values[index] == 'D' else 'D'\n",
    "        return values"
   ]
  },
  {
   "cell_type": "code",
   "execution_count": 801,
   "metadata": {},
   "outputs": [
    {
     "data": {
      "text/plain": [
       "{(None,): 'C', ('C',): 'C', ('D',): 'C'}"
      ]
     },
     "execution_count": 801,
     "metadata": {},
     "output_type": "execute_result"
    }
   ],
   "source": [
    "all_c = Agent('CCCCCCC')\n",
    "all_c.responses"
   ]
  },
  {
   "cell_type": "code",
   "execution_count": 802,
   "metadata": {},
   "outputs": [
    {
     "data": {
      "text/plain": [
       "{(None,): 'D', ('C',): 'D', ('D',): 'D'}"
      ]
     },
     "execution_count": 802,
     "metadata": {},
     "output_type": "execute_result"
    }
   ],
   "source": [
    "all_d = Agent('DDDDDDD')\n",
    "all_d.responses"
   ]
  },
  {
   "cell_type": "code",
   "execution_count": 803,
   "metadata": {},
   "outputs": [
    {
     "data": {
      "text/plain": [
       "{(None,): 'C', ('C',): 'C', ('D',): 'D'}"
      ]
     },
     "execution_count": 803,
     "metadata": {},
     "output_type": "execute_result"
    }
   ],
   "source": [
    "tft = Agent('CCDCDCD')\n",
    "tft.responses"
   ]
  },
  {
   "cell_type": "code",
   "execution_count": 804,
   "metadata": {},
   "outputs": [
    {
     "name": "stdout",
     "output_type": "stream",
     "text": [
      "DDDDDDD\n",
      "DDDDDDD\n",
      "DDDDDDD\n",
      "DDDDDDD\n",
      "DDDDDDD\n",
      "DDDDDDD\n",
      "DDDDDDD\n",
      "DDDDDDD\n",
      "DDDDDDD\n",
      "DDDDDDD\n"
     ]
    }
   ],
   "source": [
    "for i in range(10):\n",
    "    print(all_d.copy().values)"
   ]
  },
  {
   "cell_type": "code",
   "execution_count": 805,
   "metadata": {},
   "outputs": [],
   "source": [
    "class Tournament:\n",
    "    num_rounds = 10\n",
    "        \n",
    "    payoffs = {('C', 'C'): (3, 3),\n",
    "              ('C', 'D'): (0, 5),\n",
    "              ('D', 'C'): (5, 0),\n",
    "              ('D', 'D'): (1, 1)}\n",
    "    \n",
    "    def play(self, agent1, agent2):\n",
    "        agent1.reset()\n",
    "        agent2.reset()\n",
    "        \n",
    "        for i in range(self.num_rounds):\n",
    "            resp1 = agent1.respond(agent2)\n",
    "            resp2 = agent2.respond(agent1)\n",
    "\n",
    "            pay1, pay2 = self.payoffs[resp1, resp2]\n",
    "            \n",
    "            agent1.append(resp1, pay1)\n",
    "            agent2.append(resp2, pay2)\n",
    "            #print(resp1, resp2, pay1, pay2)\n",
    "            \n",
    "        return agent1.score, agent2.score\n",
    "        \n",
    "    def melee(self, agents):\n",
    "        agents = np.random.permutation(agents)\n",
    "        n = len(agents)\n",
    "        i_row = np.arange(n)\n",
    "        j_row = (i_row + 1) % n\n",
    "        \n",
    "        matches = np.zeros(n)\n",
    "        totals = np.zeros(n)\n",
    "        \n",
    "        for i, j in zip(i_row, j_row):\n",
    "            agent1, agent2 = agents[i], agents[j]\n",
    "            score1, score2 = self.play(agent1, agent2)\n",
    "            totals[i] += score1\n",
    "            totals[j] += score2\n",
    "            matches[i] += 1\n",
    "            matches[j] += 1\n",
    "        \n",
    "        assert np.all(matches==2)\n",
    "        for i in i_row:\n",
    "            agents[i].fitness = totals[i] / matches[i]"
   ]
  },
  {
   "cell_type": "code",
   "execution_count": 806,
   "metadata": {},
   "outputs": [
    {
     "data": {
      "text/plain": [
       "(14, 9)"
      ]
     },
     "execution_count": 806,
     "metadata": {},
     "output_type": "execute_result"
    }
   ],
   "source": [
    "tour = Tournament()\n",
    "tour.play(all_d, tft)"
   ]
  },
  {
   "cell_type": "code",
   "execution_count": 807,
   "metadata": {},
   "outputs": [
    {
     "data": {
      "text/plain": [
       "[<__main__.Agent at 0x7f5301cf6710>,\n",
       " <__main__.Agent at 0x7f5301cf6e48>,\n",
       " <__main__.Agent at 0x7f5301cf6f28>]"
      ]
     },
     "execution_count": 807,
     "metadata": {},
     "output_type": "execute_result"
    }
   ],
   "source": [
    "agents = [all_c, all_d, tft]\n",
    "agents"
   ]
  },
  {
   "cell_type": "code",
   "execution_count": 808,
   "metadata": {},
   "outputs": [],
   "source": [
    "tour.melee(agents)"
   ]
  },
  {
   "cell_type": "code",
   "execution_count": 809,
   "metadata": {},
   "outputs": [
    {
     "name": "stdout",
     "output_type": "stream",
     "text": [
      "CCCCCCC 15.0\n",
      "DDDDDDD 32.0\n",
      "CCDCDCD 19.5\n"
     ]
    }
   ],
   "source": [
    "for agent in agents:\n",
    "    print(agent.values, agent.fitness)"
   ]
  },
  {
   "cell_type": "code",
   "execution_count": 810,
   "metadata": {
    "collapsed": true
   },
   "outputs": [],
   "source": [
    "def logistic(x, A=0, B=1, C=1, M=0, K=1, Q=1, nu=1):\n",
    "    \"\"\"Computes the generalize logistic function.\n",
    "    \n",
    "    A: controls the lower bound\n",
    "    B: controls the steepness of the transition \n",
    "    C: not all that useful, AFAIK\n",
    "    M: controls the location of the transition\n",
    "    K: controls the upper bound\n",
    "    Q: shift the transition left or right\n",
    "    nu: affects the symmetry of the transition\n",
    "    \n",
    "    returns: float or array\n",
    "    \"\"\"\n",
    "    exponent = -B * (x - M)\n",
    "    denom = C + Q * np.exp(exponent)\n",
    "    return A + (K-A) / denom ** (1/nu)"
   ]
  },
  {
   "cell_type": "code",
   "execution_count": 811,
   "metadata": {
    "collapsed": true
   },
   "outputs": [],
   "source": [
    "from scipy.stats import zscore\n",
    "\n",
    "def prob_surv(scores):\n",
    "    zs = zscore(scores)\n",
    "    zs = np.where(np.isnan(zs), 4, zs)\n",
    "    return logistic(zs, A=0.5, B=2, K=0.9)"
   ]
  },
  {
   "cell_type": "code",
   "execution_count": 812,
   "metadata": {
    "collapsed": true
   },
   "outputs": [],
   "source": [
    "def prob_surv(scores):\n",
    "    return logistic(scores, A=0.7, B=0.1, M=30, K=0.9)"
   ]
  },
  {
   "cell_type": "code",
   "execution_count": 813,
   "metadata": {},
   "outputs": [
    {
     "data": {
      "text/plain": [
       "array([  0.   ,   1.02 ,   2.041,   3.061,   4.082,   5.102,   6.122,\n",
       "         7.143,   8.163,   9.184,  10.204,  11.224,  12.245,  13.265,\n",
       "        14.286,  15.306,  16.327,  17.347,  18.367,  19.388,  20.408,\n",
       "        21.429,  22.449,  23.469,  24.49 ,  25.51 ,  26.531,  27.551,\n",
       "        28.571,  29.592,  30.612,  31.633,  32.653,  33.673,  34.694,\n",
       "        35.714,  36.735,  37.755,  38.776,  39.796,  40.816,  41.837,\n",
       "        42.857,  43.878,  44.898,  45.918,  46.939,  47.959,  48.98 ,  50.   ])"
      ]
     },
     "execution_count": 813,
     "metadata": {},
     "output_type": "execute_result"
    }
   ],
   "source": [
    "scores = np.linspace(0, 50)\n",
    "scores"
   ]
  },
  {
   "cell_type": "code",
   "execution_count": 814,
   "metadata": {},
   "outputs": [
    {
     "data": {
      "image/png": "[encoded data removed]",
      "text/plain": [
       "<matplotlib.figure.Figure at 0x7f53024165f8>"
      ]
     },
     "metadata": {},
     "output_type": "display_data"
    }
   ],
   "source": [
    "probs = prob_surv(scores)\n",
    "thinkplot.plot(scores, probs)"
   ]
  },
  {
   "cell_type": "code",
   "execution_count": 815,
   "metadata": {
    "collapsed": true
   },
   "outputs": [],
   "source": [
    "class Simulation:\n",
    "    \n",
    "    def __init__(self, tournament, agents):\n",
    "        \"\"\"Create the simulation:\n",
    "        \n",
    "        tournament: Tournament object\n",
    "        agents: sequence of agents\n",
    "        \"\"\"\n",
    "        self.tournament = tournament\n",
    "        self.agents = np.asarray(agents)\n",
    "        self.instruments = []\n",
    "        \n",
    "    def add_instrument(self, instrument):\n",
    "        \"\"\"Adds an instrument to the list.\n",
    "        \n",
    "        instrument: Instrument object\n",
    "        \"\"\"\n",
    "        self.instruments.append(instrument)\n",
    "        \n",
    "    def plot(self, index, *args, **kwargs):\n",
    "        \"\"\"Plot the results from the indicated instrument.\n",
    "        \"\"\"\n",
    "        self.instruments[index].plot(*args, **kwargs)\n",
    "        \n",
    "    def run(self, num_steps=100):\n",
    "        \"\"\"Run the given number of steps.\n",
    "        \n",
    "        num_steps: integer\n",
    "        \"\"\"\n",
    "        # initialize any instruments before starting\n",
    "        self.update_instruments()\n",
    "        \n",
    "        for _ in range(num_steps):\n",
    "            self.step()\n",
    "        \n",
    "    def step(self):\n",
    "        \"\"\"Simulate a time step and update the instruments.\n",
    "        \"\"\"\n",
    "        self.tournament.melee(self.agents)\n",
    "        fits = self.get_fitnesses()\n",
    "        ps = prob_surv(fits)\n",
    "        \n",
    "        # see who dies\n",
    "        index_dead = self.choose_dead(ps)\n",
    "        num_dead = len(index_dead)\n",
    "        \n",
    "        # replace the dead with copies of the living\n",
    "        replacements = self.choose_replacements(num_dead, fits)\n",
    "        self.agents[index_dead] = replacements\n",
    "\n",
    "        # update any instruments\n",
    "        self.update_instruments()\n",
    "        \n",
    "    def update_instruments(self):\n",
    "        for instrument in self.instruments:\n",
    "            instrument.update(self)\n",
    "            \n",
    "    def get_locs(self):\n",
    "        \"\"\"Returns a list of agent locations.\"\"\"\n",
    "        return [tuple(agent.loc) for agent in self.agents]\n",
    "    \n",
    "    def get_fitnesses(self):\n",
    "        \"\"\"Returns an array of agent fitnesses.\"\"\"\n",
    "        fits = [agent.fitness for agent in self.agents]\n",
    "        return np.array(fits)\n",
    "    \n",
    "    def choose_dead(self, ps):\n",
    "        \"\"\"Choose which agents die in the next timestep.\n",
    "        \n",
    "        ps: probability of survival for each agent\n",
    "        \n",
    "        returns: indices of the chosen ones\n",
    "        \"\"\"\n",
    "        n = len(self.agents)\n",
    "        is_dead = np.random.random(n) < ps\n",
    "        index_dead = np.nonzero(is_dead)[0]\n",
    "        return index_dead\n",
    "        \n",
    "    def choose_replacements(self, n, fits):\n",
    "        \"\"\"Choose which agents reproduce in the next timestep.\n",
    "        \n",
    "        n: number of choices\n",
    "        fits: array of fitnesses\n",
    "        \n",
    "        returns: sequence of Agent objects\n",
    "        \"\"\"\n",
    "        agents = np.random.choice(self.agents, size=n, replace=True)\n",
    "        replacements = [agent.copy() for agent in agents]\n",
    "        return replacements"
   ]
  },
  {
   "cell_type": "code",
   "execution_count": 816,
   "metadata": {},
   "outputs": [],
   "source": [
    "def make_random_agents(n):\n",
    "    agents = [Agent(np.random.choice(['C', 'D'], size=7)) \n",
    "              for _ in range(n)]\n",
    "    return agents"
   ]
  },
  {
   "cell_type": "code",
   "execution_count": 817,
   "metadata": {
    "collapsed": true
   },
   "outputs": [],
   "source": [
    "def make_identical_agents(n, values):\n",
    "    agents = [Agent(values) for _ in range(n)]\n",
    "    return agents"
   ]
  },
  {
   "cell_type": "code",
   "execution_count": 818,
   "metadata": {
    "collapsed": true
   },
   "outputs": [],
   "source": [
    "class Instrument:\n",
    "    \"\"\"Computes a metric at each timestep.\"\"\"\n",
    "    \n",
    "    def __init__(self):\n",
    "        self.metrics = []\n",
    "        \n",
    "    def update(self, sim):\n",
    "        \"\"\"Compute the current metric.\n",
    "        \n",
    "        Appends to self.metrics.\n",
    "        \n",
    "        sim: Simulation object\n",
    "        \"\"\"\n",
    "        # child classes should implement this method\n",
    "        pass\n",
    "        \n",
    "    def plot(self, **options):\n",
    "        thinkplot.plot(self.metrics, **options)"
   ]
  },
  {
   "cell_type": "code",
   "execution_count": 819,
   "metadata": {},
   "outputs": [],
   "source": [
    "class Niceness(Instrument):\n",
    "    \"\"\"Computes average niceness.\"\"\"\n",
    "    label = 'Niceness'\n",
    "        \n",
    "    def update(self, sim):\n",
    "        responses = np.array([agent.values for agent in sim.agents])\n",
    "        metric = np.mean(responses == 'C')\n",
    "        self.metrics.append(metric)"
   ]
  },
  {
   "cell_type": "code",
   "execution_count": 820,
   "metadata": {
    "collapsed": true
   },
   "outputs": [],
   "source": [
    "class Opening(Instrument):\n",
    "    \"\"\"Computes .\"\"\"\n",
    "    label = 'Opening'\n",
    "        \n",
    "    def update(self, sim):\n",
    "        responses = np.array([agent.values[0] for agent in sim.agents])\n",
    "        metric = np.mean(responses == 'C')\n",
    "        self.metrics.append(metric)"
   ]
  },
  {
   "cell_type": "code",
   "execution_count": 821,
   "metadata": {},
   "outputs": [],
   "source": [
    "class Provocability(Instrument):\n",
    "    \"\"\"Computes .\"\"\"\n",
    "    label = 'Provocability'\n",
    "        \n",
    "    def update(self, sim):\n",
    "        after_d = np.array([agent.values[2::2] for agent in sim.agents])\n",
    "        after_c = np.array([agent.values[1::2] for agent in sim.agents])\n",
    "        metric = np.mean(after_d == 'D') - np.mean(after_c == 'D')\n",
    "        self.metrics.append(metric)"
   ]
  },
  {
   "cell_type": "code",
   "execution_count": 822,
   "metadata": {
    "collapsed": true
   },
   "outputs": [],
   "source": [
    "class Forgiveness(Instrument):\n",
    "    \"\"\"Computes .\"\"\"\n",
    "    label = 'Forgiveness'\n",
    "        \n",
    "    def update(self, sim):\n",
    "        after_dc = np.array([agent.values[5] for agent in sim.agents])\n",
    "        after_cd = np.array([agent.values[4] for agent in sim.agents])\n",
    "        metric = np.mean(after_dc == 'C') - np.mean(after_cd == 'C')\n",
    "        self.metrics.append(metric)"
   ]
  },
  {
   "cell_type": "code",
   "execution_count": 844,
   "metadata": {
    "collapsed": true
   },
   "outputs": [],
   "source": [
    "tour = Tournament()\n",
    "\n",
    "agents = make_identical_agents(100, list('DDDDDDD'))\n",
    "sim = Simulation(tour, agents)\n",
    "\n",
    "sim.add_instrument(Niceness())\n",
    "sim.add_instrument(Opening())\n",
    "sim.add_instrument(Provocability())\n",
    "sim.add_instrument(Forgiveness())"
   ]
  },
  {
   "cell_type": "code",
   "execution_count": 845,
   "metadata": {},
   "outputs": [],
   "source": [
    "sim.run(5000)"
   ]
  },
  {
   "cell_type": "code",
   "execution_count": 846,
   "metadata": {},
   "outputs": [
    {
     "data": {
      "text/plain": [
       "0.522"
      ]
     },
     "execution_count": 846,
     "metadata": {},
     "output_type": "execute_result"
    },
    {
     "data": {
      "image/png": "[encoded data removed]",
      "text/plain": [
       "<matplotlib.figure.Figure at 0x7f5301cb8668>"
      ]
     },
     "metadata": {},
     "output_type": "display_data"
    }
   ],
   "source": [
    "sim.plot(0)\n",
    "np.mean(sim.instruments[0].metrics[1000:])"
   ]
  },
  {
   "cell_type": "code",
   "execution_count": 847,
   "metadata": {},
   "outputs": [
    {
     "data": {
      "text/plain": [
       "0.421"
      ]
     },
     "execution_count": 847,
     "metadata": {},
     "output_type": "execute_result"
    },
    {
     "data": {
      "image/png": "[encoded data removed]",
      "text/plain": [
       "<matplotlib.figure.Figure at 0x7f5304a822e8>"
      ]
     },
     "metadata": {},
     "output_type": "display_data"
    }
   ],
   "source": [
    "sim.plot(1)\n",
    "np.mean(sim.instruments[1].metrics[1000:])"
   ]
  },
  {
   "cell_type": "code",
   "execution_count": 837,
   "metadata": {},
   "outputs": [
    {
     "data": {
      "text/plain": [
       "0.035"
      ]
     },
     "execution_count": 837,
     "metadata": {},
     "output_type": "execute_result"
    },
    {
     "data": {
      "image/png": "[encoded data removed]",
      "text/plain": [
       "<matplotlib.figure.Figure at 0x7f53022d2a90>"
      ]
     },
     "metadata": {},
     "output_type": "display_data"
    }
   ],
   "source": [
    "sim.plot(2)\n",
    "np.mean(sim.instruments[2].metrics[1000:])"
   ]
  },
  {
   "cell_type": "code",
   "execution_count": 839,
   "metadata": {},
   "outputs": [
    {
     "data": {
      "text/plain": [
       "-0.043"
      ]
     },
     "execution_count": 839,
     "metadata": {},
     "output_type": "execute_result"
    },
    {
     "data": {
      "image/png": "[encoded data removed]",
      "text/plain": [
       "<matplotlib.figure.Figure at 0x7f5301be7da0>"
      ]
     },
     "metadata": {},
     "output_type": "display_data"
    }
   ],
   "source": [
    "sim.plot(3)\n",
    "np.mean(sim.instruments[3].metrics[1000:])"
   ]
  },
  {
   "cell_type": "code",
   "execution_count": 840,
   "metadata": {},
   "outputs": [
    {
     "name": "stdout",
     "output_type": "stream",
     "text": [
      "['D', 'D', 'C', 'C', 'C', 'D', 'D']\n",
      "['D', 'D', 'C', 'C', 'C', 'D', 'C']\n",
      "['D', 'C', 'C', 'D', 'D', 'D', 'C']\n",
      "['D', 'C', 'C', 'C', 'C', 'D', 'D']\n",
      "['D', 'D', 'D', 'D', 'C', 'C', 'C']\n",
      "['D', 'D', 'D', 'D', 'C', 'C', 'C']\n",
      "['D', 'D', 'C', 'C', 'C', 'D', 'C']\n",
      "['C', 'D', 'C', 'D', 'D', 'D', 'D']\n",
      "['D', 'C', 'C', 'D', 'C', 'D', 'C']\n",
      "['D', 'D', 'D', 'D', 'C', 'C', 'C']\n",
      "['D', 'C', 'C', 'D', 'D', 'D', 'C']\n",
      "['D', 'D', 'D', 'D', 'C', 'C', 'D']\n",
      "['D', 'C', 'C', 'C', 'C', 'D', 'D']\n",
      "['D', 'D', 'C', 'C', 'C', 'D', 'C']\n",
      "['D', 'C', 'D', 'C', 'C', 'D', 'D']\n",
      "['D', 'C', 'C', 'D', 'D', 'D', 'D']\n",
      "['D', 'C', 'C', 'C', 'D', 'D', 'C']\n",
      "['D', 'C', 'C', 'D', 'C', 'D', 'C']\n",
      "['D', 'D', 'C', 'C', 'C', 'D', 'C']\n",
      "['D', 'C', 'D', 'C', 'C', 'D', 'D']\n",
      "['D', 'D', 'D', 'D', 'C', 'C', 'C']\n",
      "['D', 'D', 'D', 'D', 'C', 'C', 'C']\n",
      "['D', 'C', 'C', 'C', 'D', 'D', 'D']\n",
      "['D', 'C', 'C', 'D', 'C', 'D', 'C']\n",
      "['C', 'C', 'C', 'C', 'D', 'D', 'D']\n",
      "['D', 'D', 'C', 'C', 'C', 'D', 'C']\n",
      "['D', 'D', 'C', 'C', 'C', 'D', 'C']\n",
      "['D', 'C', 'D', 'C', 'C', 'D', 'D']\n",
      "['D', 'C', 'C', 'D', 'D', 'D', 'C']\n",
      "['D', 'C', 'D', 'C', 'C', 'D', 'D']\n",
      "['D', 'C', 'C', 'C', 'D', 'D', 'C']\n",
      "['D', 'D', 'D', 'C', 'C', 'C', 'C']\n",
      "['D', 'C', 'D', 'D', 'C', 'D', 'C']\n",
      "['D', 'C', 'C', 'D', 'C', 'D', 'C']\n",
      "['C', 'C', 'C', 'D', 'D', 'D', 'D']\n",
      "['D', 'D', 'D', 'D', 'C', 'C', 'C']\n",
      "['C', 'C', 'C', 'C', 'D', 'D', 'D']\n",
      "['C', 'C', 'C', 'D', 'D', 'D', 'D']\n",
      "['D', 'C', 'C', 'C', 'C', 'D', 'C']\n",
      "['D', 'C', 'C', 'D', 'D', 'D', 'D']\n",
      "['D', 'C', 'C', 'D', 'D', 'D', 'D']\n",
      "['D', 'C', 'C', 'C', 'C', 'D', 'D']\n",
      "['D', 'C', 'D', 'C', 'C', 'D', 'D']\n",
      "['D', 'C', 'C', 'C', 'D', 'D', 'D']\n",
      "['D', 'D', 'D', 'D', 'C', 'C', 'C']\n",
      "['D', 'D', 'D', 'C', 'C', 'C', 'C']\n",
      "['D', 'C', 'C', 'D', 'D', 'D', 'D']\n",
      "['D', 'D', 'D', 'D', 'C', 'C', 'C']\n",
      "['D', 'C', 'C', 'C', 'D', 'D', 'C']\n",
      "['D', 'C', 'C', 'C', 'C', 'D', 'C']\n",
      "['D', 'C', 'D', 'C', 'C', 'D', 'D']\n",
      "['D', 'C', 'C', 'D', 'D', 'D', 'D']\n",
      "['D', 'C', 'C', 'D', 'D', 'D', 'D']\n",
      "['C', 'C', 'C', 'D', 'D', 'D', 'D']\n",
      "['C', 'C', 'C', 'D', 'D', 'D', 'D']\n",
      "['D', 'C', 'C', 'D', 'C', 'D', 'C']\n",
      "['D', 'D', 'C', 'C', 'C', 'D', 'C']\n",
      "['D', 'C', 'C', 'D', 'C', 'D', 'C']\n",
      "['D', 'D', 'D', 'D', 'C', 'C', 'C']\n",
      "['D', 'C', 'C', 'D', 'D', 'D', 'D']\n",
      "['C', 'C', 'C', 'C', 'C', 'D', 'C']\n",
      "['D', 'D', 'D', 'D', 'C', 'C', 'C']\n",
      "['D', 'D', 'C', 'C', 'C', 'D', 'C']\n",
      "['D', 'C', 'D', 'C', 'C', 'D', 'D']\n",
      "['D', 'C', 'C', 'D', 'D', 'D', 'C']\n",
      "['D', 'C', 'C', 'D', 'D', 'D', 'D']\n",
      "['D', 'D', 'D', 'D', 'C', 'C', 'C']\n",
      "['C', 'D', 'C', 'D', 'D', 'D', 'D']\n",
      "['D', 'C', 'C', 'D', 'D', 'D', 'D']\n",
      "['D', 'C', 'C', 'D', 'D', 'D', 'D']\n",
      "['D', 'C', 'C', 'D', 'C', 'D', 'C']\n",
      "['D', 'C', 'C', 'D', 'D', 'C', 'D']\n",
      "['D', 'C', 'C', 'D', 'D', 'D', 'D']\n",
      "['D', 'C', 'D', 'C', 'C', 'D', 'D']\n",
      "['D', 'C', 'C', 'C', 'C', 'D', 'C']\n",
      "['D', 'D', 'D', 'D', 'C', 'C', 'C']\n",
      "['D', 'C', 'C', 'D', 'D', 'D', 'D']\n",
      "['C', 'C', 'C', 'D', 'D', 'D', 'D']\n",
      "['D', 'C', 'C', 'D', 'D', 'D', 'C']\n",
      "['D', 'C', 'C', 'C', 'C', 'D', 'C']\n",
      "['D', 'C', 'C', 'D', 'D', 'D', 'D']\n",
      "['D', 'C', 'C', 'D', 'D', 'D', 'C']\n",
      "['D', 'C', 'D', 'C', 'C', 'D', 'D']\n",
      "['C', 'D', 'C', 'D', 'D', 'D', 'D']\n",
      "['D', 'C', 'D', 'D', 'D', 'D', 'D']\n",
      "['D', 'D', 'C', 'D', 'C', 'D', 'D']\n",
      "['D', 'D', 'C', 'D', 'C', 'D', 'D']\n",
      "['D', 'C', 'C', 'D', 'D', 'D', 'C']\n",
      "['D', 'C', 'C', 'C', 'D', 'D', 'D']\n",
      "['D', 'C', 'C', 'D', 'D', 'D', 'D']\n",
      "['D', 'D', 'D', 'D', 'C', 'C', 'C']\n",
      "['D', 'C', 'C', 'D', 'D', 'D', 'D']\n",
      "['D', 'C', 'C', 'D', 'D', 'D', 'C']\n",
      "['D', 'D', 'C', 'C', 'C', 'D', 'C']\n",
      "['D', 'C', 'C', 'D', 'D', 'D', 'D']\n",
      "['C', 'C', 'C', 'D', 'D', 'D', 'D']\n",
      "['D', 'C', 'C', 'D', 'D', 'D', 'D']\n",
      "['D', 'C', 'C', 'D', 'D', 'D', 'D']\n",
      "['D', 'C', 'C', 'D', 'C', 'D', 'C']\n",
      "['D', 'C', 'C', 'C', 'C', 'D', 'C']\n"
     ]
    }
   ],
   "source": [
    "for agent in sim.agents:\n",
    "    print(agent.values)"
   ]
  },
  {
   "cell_type": "code",
   "execution_count": 841,
   "metadata": {},
   "outputs": [
    {
     "data": {
      "text/plain": [
       "'CCDCDCD'"
      ]
     },
     "execution_count": 841,
     "metadata": {},
     "output_type": "execute_result"
    }
   ],
   "source": [
    "tft.values"
   ]
  },
  {
   "cell_type": "code",
   "execution_count": 842,
   "metadata": {},
   "outputs": [],
   "source": [
    "responses = [''.join(agent.values) for agent in sim.agents]"
   ]
  },
  {
   "cell_type": "code",
   "execution_count": 843,
   "metadata": {},
   "outputs": [
    {
     "data": {
      "text/plain": [
       "DCCDDDD    18\n",
       "DDDDCCC    13\n",
       "DDCCCDC     9\n",
       "DCDCCDD     9\n",
       "DCCDDDC     8\n",
       "DCCDCDC     8\n",
       "CCCDDDD     6\n",
       "DCCCCDC     5\n",
       "DCCCCDD     3\n",
       "DCCCDDC     3\n",
       "CDCDDDD     3\n",
       "DCCCDDD     3\n",
       "DDDCCCC     2\n",
       "DDCDCDD     2\n",
       "CCCCDDD     2\n",
       "DDCCCDD     1\n",
       "DCCDDCD     1\n",
       "DCDDCDC     1\n",
       "DDDDCCD     1\n",
       "CCCCCDC     1\n",
       "DCDDDDD     1\n",
       "dtype: int64"
      ]
     },
     "execution_count": 843,
     "metadata": {},
     "output_type": "execute_result"
    }
   ],
   "source": [
    "from pandas import Series\n",
    "Series(responses).value_counts()"
   ]
  },
  {
   "cell_type": "code",
   "execution_count": null,
   "metadata": {
    "collapsed": true
   },
   "outputs": [],
   "source": []
  }
 ],
 "metadata": {
  "anaconda-cloud": {},
  "kernelspec": {
   "display_name": "Python 3",
   "language": "python",
   "name": "python3"
  },
  "language_info": {
   "codemirror_mode": {
    "name": "ipython",
    "version": 3
   },
   "file_extension": ".py",
   "mimetype": "text/x-python",
   "name": "python",
   "nbconvert_exporter": "python",
   "pygments_lexer": "ipython3",
   "version": "3.6.1"
  }
 },
 "nbformat": 4,
 "nbformat_minor": 1
}
