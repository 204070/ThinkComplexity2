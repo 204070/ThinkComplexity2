{
 "cells": [
  {
   "cell_type": "markdown",
   "metadata": {},
   "source": [
    "# Cellular automata\n",
    "\n",
    "Code examples from [Think Complexity, 2nd edition](http://greenteapress.com/wp/complexity2), Chapter 5\n",
    "\n",
    "Copyright 2016 Allen Downey, [MIT License](http://opensource.org/licenses/MIT)"
   ]
  },
  {
   "cell_type": "code",
   "execution_count": 12,
   "metadata": {
    "collapsed": true
   },
   "outputs": [],
   "source": [
    "from __future__ import print_function, division\n",
    "\n",
    "%matplotlib inline\n",
    "%precision 3\n",
    "\n",
    "import warnings\n",
    "warnings.filterwarnings('ignore')\n",
    "\n",
    "import matplotlib.pyplot as plt\n",
    "\n",
    "import random\n",
    "import networkx as nx\n",
    "import numpy as np\n",
    "\n",
    "import thinkcomplexity\n",
    "import thinkplot\n",
    "\n",
    "# colors from our friends at http://colorbrewer2.org\n",
    "COLORS = ['#8dd3c7','#ffffb3','#bebada','#fb8072','#80b1d3','#fdb462',\n",
    "          '#b3de69','#fccde5','#d9d9d9','#bc80bd','#ccebc5','#ffed6f']"
   ]
  },
  {
   "cell_type": "code",
   "execution_count": 13,
   "metadata": {
    "collapsed": true
   },
   "outputs": [],
   "source": [
    "from thinkstats2 import RandomSeed\n",
    "RandomSeed(17)"
   ]
  },
  {
   "cell_type": "code",
   "execution_count": 175,
   "metadata": {
    "collapsed": false
   },
   "outputs": [],
   "source": [
    "import numpy as np\n",
    "\n",
    "class CA(object):\n",
    "    \"\"\"Represents a 1-D a cellular automaton\"\"\"\n",
    "\n",
    "    def __init__(self, rule, n, ratio=2):\n",
    "        \"\"\"Initializes the CA.\n",
    "\n",
    "        rule: integer\n",
    "        n: number of rows\n",
    "        m: number of columns\n",
    "\n",
    "\n",
    "        Attributes:\n",
    "        table:  rule dictionary that maps from triple to next state.\n",
    "        array:  the numpy array that contains the data.\n",
    "        next:   the index of the next empty row.\n",
    "        \"\"\"\n",
    "        rule = np.array([rule], dtype=np.uint8)\n",
    "        self.table = np.unpackbits(rule)[::-1]\n",
    "        self.n = n\n",
    "        self.m = int(ratio * n + 1)\n",
    "        self.array = np.zeros((n, self.m), dtype=np.int8)\n",
    "        self.next = 0\n",
    "\n",
    "    def start_single(self):\n",
    "        \"\"\"Starts with one cell in the middle of the top row.\"\"\"\n",
    "        self.array[0, self.m//2] = 1\n",
    "        self.next += 1\n",
    "\n",
    "    def start_random(self):\n",
    "        \"\"\"Start with random values in the top row.\"\"\"\n",
    "        self.array[0] = np.random.random(self.m).round()\n",
    "        self.next += 1\n",
    "\n",
    "    def loop(self, steps=1):\n",
    "        \"\"\"Executes the given number of time steps.\"\"\"\n",
    "        for i in range(steps):\n",
    "            self.step()\n",
    "\n",
    "    def step(self):\n",
    "        \"\"\"Executes one time step by computing the next row of the array.\"\"\"\n",
    "        a = self.array\n",
    "        i = self.next\n",
    "        window = [1,2,4]\n",
    "        convolved = np.convolve(a[i-1], window, mode='same')\n",
    "        a[i] = self.table[convolved]\n",
    "        self.next += 1\n",
    "\n",
    "    def get_array(self, start=0, end=None):\n",
    "        \"\"\"Gets a slice of columns from the CA.\n",
    "\n",
    "        Avoids copying if possible.\n",
    "\n",
    "        start: index of first column\n",
    "        end: index of the last column plus one\n",
    "        \"\"\"\n",
    "        if start==0 and end==None:\n",
    "            return self.array\n",
    "        else:\n",
    "            return self.array[:, start:end]\n",
    "\n",
    "\n",
    "def print_table(table):\n",
    "    \"\"\"Prints the rule table in LaTeX format.\"\"\"\n",
    "    print('\\\\beforefig')\n",
    "    print('\\\\centerline{')\n",
    "    print('\\\\begin{tabular}{|c|c|c|c|c|c|c|c|c|}')\n",
    "    print('\\\\hline')\n",
    "\n",
    "    res = ['prev'] + ['{0:03b}'.format(i) for i in range(8)]\n",
    "    print(' & '.join(res) + ' \\\\\\\\ \\n\\\\hline')\n",
    "\n",
    "    res = ['next'] + [str(x) for x in table]\n",
    "    print(' &   '.join(res) + ' \\\\\\\\ \\n\\\\hline')\n",
    "\n",
    "    print('\\\\end{tabular}}')"
   ]
  },
  {
   "cell_type": "code",
   "execution_count": 176,
   "metadata": {
    "collapsed": false
   },
   "outputs": [],
   "source": [
    "import numpy as np\n",
    "import matplotlib.pyplot as plt\n",
    "        \n",
    "\n",
    "class PyplotDrawer:\n",
    "    \"\"\"Implementation of Drawer using matplotlib.\"\"\"\n",
    "        \n",
    "    def draw(self, ca, start=0, end=None):\n",
    "        \"\"\"Draws the CA using pyplot.pcolor.\"\"\"\n",
    "        a = ca.get_array(start, end)\n",
    "        rows, cols = a.shape\n",
    "\n",
    "        # flipud puts the first row at the top; \n",
    "        # negating it makes the non-zero cells black.\n",
    "        plt.pcolor(-np.flipud(a))\n",
    "        plt.gray()\n",
    "        plt.axis([0, cols, 0, rows])\n",
    "\n",
    "        # empty lists draw no ticks\n",
    "        plt.xticks([])\n",
    "        plt.yticks([])\n",
    "\n",
    "    def show(self):\n",
    "        \"\"\"display the pseudocolor representation of the CA\"\"\"\n",
    "        plt.show()\n",
    "\n",
    "    def save(self, filename='ca.png'):\n",
    "        \"\"\"save the pseudocolor representation of the CA in (filename).\"\"\"\n",
    "        plt.savefig(filename)\n",
    "\n",
    "\n",
    "class EPSDrawer:\n",
    "    \"\"\"Implementation of Drawer using encapsulated Postscript (EPS).\"\"\"\n",
    "\n",
    "    def __init__(self):\n",
    "        self.cells = []\n",
    "\n",
    "    def draw(self, ca, start=0, end=None):\n",
    "        a = ca.get_array(start, end)\n",
    "        self.n, self.m = a.shape\n",
    "        for i in xrange(self.n):\n",
    "            for j in xrange(self.m):\n",
    "                if a[i, j]:\n",
    "                    self.cells.append((i, j))\n",
    "        \n",
    "    def save(self, filename='ca.eps'):\n",
    "        with open(filename, 'w') as fp:\n",
    "            self.print_header(fp)\n",
    "            self.print_outline(fp)\n",
    "            self.print_cells(fp)\n",
    "            self.print_footer(fp)\n",
    "\n",
    "    def print_cells(self, fp):\n",
    "        for i, j in self.cells:\n",
    "            fp.write('%d %d c\\n' % (j, i))\n",
    "\n",
    "    def print_header(self, fp, size=0.9, border=2):\n",
    "        fp.write('%!PS-Adobe-3.0 EPSF-3.0\\n')\n",
    "        fp.write('%%%%BoundingBox: %d %d %d %d\\n' % \n",
    "                 (border, border, self.m+border, self.n+border))\n",
    "\n",
    "        fp.write('1 -1 scale\\n')\n",
    "        fp.write('0 %d translate\\n' % -self.n)\n",
    "        fp.write('/c {\\n')\n",
    "        fp.write('   newpath moveto\\n')\n",
    "        fp.write('   0 %g rlineto\\n' % size)\n",
    "        fp.write('   %g 0 rlineto\\n' % size)\n",
    "        fp.write('   0 -%g rlineto\\n' % size)\n",
    "        fp.write('   closepath fill\\n')\n",
    "        fp.write('} def\\n')\n",
    "\n",
    "    def print_outline(self, fp):\n",
    "        fp.write('newpath 0.1 setlinewidth 0 0 moveto\\n')\n",
    "        fp.write('0 %d rlineto\\n' % self.n)\n",
    "        fp.write('%d 0 rlineto\\n' % self.m)\n",
    "        fp.write('0 -%d rlineto\\n' % self.n)\n",
    "        fp.write('closepath stroke\\n')\n",
    "\n",
    "    def print_footer(self, fp):\n",
    "        fp.write('%%EOF\\n')"
   ]
  },
  {
   "cell_type": "code",
   "execution_count": 177,
   "metadata": {
    "collapsed": false
   },
   "outputs": [
    {
     "name": "stdout",
     "output_type": "stream",
     "text": [
      "[0 1 0 0 1 1 0 0]\n"
     ]
    }
   ],
   "source": [
    "rule = 50\n",
    "n = 4\n",
    "ca = CA(rule, n)\n",
    "ca.start_single()\n",
    "\n",
    "print(ca.table)"
   ]
  },
  {
   "cell_type": "code",
   "execution_count": 178,
   "metadata": {
    "collapsed": false
   },
   "outputs": [
    {
     "name": "stdout",
     "output_type": "stream",
     "text": [
      "[0 0 0 0 1 0 0 0 0]\n"
     ]
    }
   ],
   "source": [
    "a = ca.array\n",
    "print(a[0])"
   ]
  },
  {
   "cell_type": "code",
   "execution_count": 179,
   "metadata": {
    "collapsed": false
   },
   "outputs": [
    {
     "name": "stdout",
     "output_type": "stream",
     "text": [
      "[0 0 0 1 2 4 0 0 0]\n"
     ]
    }
   ],
   "source": [
    "window = [1,2,4]\n",
    "convolved = np.convolve(a[0], window, mode='same')\n",
    "print(convolved)\n"
   ]
  },
  {
   "cell_type": "code",
   "execution_count": 180,
   "metadata": {
    "collapsed": false
   },
   "outputs": [
    {
     "name": "stdout",
     "output_type": "stream",
     "text": [
      "[0 0 0 1 0 1 0 0 0]\n"
     ]
    }
   ],
   "source": [
    "a[1] = ca.table[convolved]\n",
    "print(a[1])"
   ]
  },
  {
   "cell_type": "code",
   "execution_count": 181,
   "metadata": {
    "collapsed": false
   },
   "outputs": [],
   "source": [
    "rule = 50\n",
    "n = 10\n",
    "ca = CA(rule, n)\n",
    "ca.start_single()\n",
    "ca.loop(n-1)"
   ]
  },
  {
   "cell_type": "code",
   "execution_count": 182,
   "metadata": {
    "collapsed": false
   },
   "outputs": [
    {
     "data": {
      "image/png": "[encoded data removed]",
      "text/plain": [
       "<matplotlib.figure.Figure at 0x7f53ceaa5f50>"
      ]
     },
     "metadata": {},
     "output_type": "display_data"
    },
    {
     "data": {
      "text/plain": [
       "<matplotlib.figure.Figure at 0x7f53cf1542d0>"
      ]
     },
     "metadata": {},
     "output_type": "display_data"
    }
   ],
   "source": [
    "drawer = PyplotDrawer()\n",
    "drawer.draw(ca)\n",
    "drawer.show()\n",
    "drawer.save('chap05-1.png')"
   ]
  },
  {
   "cell_type": "code",
   "execution_count": 183,
   "metadata": {
    "collapsed": false
   },
   "outputs": [],
   "source": [
    "drawer = EPSDrawer()\n",
    "drawer.draw(ca)\n",
    "drawer.save('chap05-1.eps')"
   ]
  },
  {
   "cell_type": "code",
   "execution_count": 184,
   "metadata": {
    "collapsed": false
   },
   "outputs": [
    {
     "name": "stdout",
     "output_type": "stream",
     "text": [
      "\\beforefig\n",
      "\\centerline{\n",
      "\\begin{tabular}{|c|c|c|c|c|c|c|c|c|}\n",
      "\\hline\n",
      "prev & 000 & 001 & 010 & 011 & 100 & 101 & 110 & 111 \\\\ \n",
      "\\hline\n",
      "next &   0 &   1 &   0 &   0 &   1 &   1 &   0 &   0 \\\\ \n",
      "\\hline\n",
      "\\end{tabular}}\n"
     ]
    }
   ],
   "source": [
    "print_table(ca.table)"
   ]
  },
  {
   "cell_type": "code",
   "execution_count": 102,
   "metadata": {
    "collapsed": true
   },
   "outputs": [],
   "source": [
    "class CircularCA(CA):\n",
    "    \"\"\"A variation of CA that wraps around so that the cells are\n",
    "    arranged in a ring.\n",
    "    \"\"\"\n",
    "    def __init__(self, rule, n=100, ratio=2):\n",
    "        \"\"\"n, m are the number of rows, columns.\n",
    "        array is the numpy array that contains the data.\n",
    "        next is the index of the next empty row.\n",
    "        \"\"\"\n",
    "        self.table = self.make_table(rule)\n",
    "        self.n = n\n",
    "        # allocate two extra cells for ghosts\n",
    "        self.m = int(ratio*n + 1 + 2)\n",
    "        self.array = np.zeros((self.n, self.m), dtype=np.int8)\n",
    "        self.next = 0\n",
    "\n",
    "    def step(self):\n",
    "        \"\"\"Executes one time step by computing the next row of the array.\"\"\"\n",
    "        i = self.next\n",
    "        self.next += 1\n",
    "\n",
    "        a = self.array\n",
    "        t = self.table\n",
    "\n",
    "        # copy the ghost cells\n",
    "        a[i-1,0] = a[i-1,self.m-2]\n",
    "        a[i-1,self.m-1] = a[i-1,1]\n",
    "\n",
    "        for j in xrange(1,self.m-1):\n",
    "            a[i,j] = t[tuple(a[i-1, j-1:j+2])]\n",
    "\n",
    "    def get_array(self, start=0, end=None):\n",
    "        \"\"\"get a slice of columns from the CA, with slice indices\n",
    "        (start, end).  We need to add one to avoid ghost cells.\n",
    "        \"\"\"\n",
    "        if end==None:\n",
    "            return self.array[:, start+1:self.m-1]\n",
    "        else:\n",
    "            return self.array[:, start+1:end+1]"
   ]
  },
  {
   "cell_type": "code",
   "execution_count": 104,
   "metadata": {
    "collapsed": false
   },
   "outputs": [
    {
     "data": {
      "image/png": "[encoded data removed]",
      "text/plain": [
       "<matplotlib.figure.Figure at 0x7f53cd871390>"
      ]
     },
     "metadata": {},
     "output_type": "display_data"
    }
   ],
   "source": [
    "rule = 134\n",
    "n = 100\n",
    "ca = CircularCA(rule, n, ratio=0.5)\n",
    "ca.start_single()\n",
    "ca.loop(n-1)\n",
    "\n",
    "drawer = PyplotDrawer()\n",
    "drawer.draw(ca)"
   ]
  },
  {
   "cell_type": "code",
   "execution_count": 120,
   "metadata": {
    "collapsed": false
   },
   "outputs": [
    {
     "data": {
      "text/plain": [
       "array([0, 0, 0, 0, 1, 0, 0, 0], dtype=uint8)"
      ]
     },
     "execution_count": 120,
     "metadata": {},
     "output_type": "execute_result"
    }
   ],
   "source": [
    "np.unpackbits(np.array([8], dtype=np.uint8))"
   ]
  },
  {
   "cell_type": "code",
   "execution_count": null,
   "metadata": {
    "collapsed": true
   },
   "outputs": [],
   "source": []
  }
 ],
 "metadata": {
  "kernelspec": {
   "display_name": "Python 2",
   "language": "python",
   "name": "python2"
  },
  "language_info": {
   "codemirror_mode": {
    "name": "ipython",
    "version": 2
   },
   "file_extension": ".py",
   "mimetype": "text/x-python",
   "name": "python",
   "nbconvert_exporter": "python",
   "pygments_lexer": "ipython2",
   "version": "2.7.11"
  }
 },
 "nbformat": 4,
 "nbformat_minor": 0
}
