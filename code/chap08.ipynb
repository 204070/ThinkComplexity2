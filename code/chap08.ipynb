{
 "cells": [
  {
   "cell_type": "markdown",
   "metadata": {},
   "source": [
    "# Self-organized criticality\n",
    "\n",
    "Code examples from [Think Complexity, 2nd edition](http://greenteapress.com/wp/complexity2), Chapter 7\n",
    "\n",
    "Copyright 2016 Allen Downey, [MIT License](http://opensource.org/licenses/MIT)"
   ]
  },
  {
   "cell_type": "code",
   "execution_count": 1,
   "metadata": {
    "collapsed": true
   },
   "outputs": [],
   "source": [
    "from __future__ import print_function, division\n",
    "\n",
    "%matplotlib inline\n",
    "%precision 3\n",
    "\n",
    "import warnings\n",
    "warnings.filterwarnings('ignore')\n",
    "\n",
    "import itertools\n",
    "import numpy as np\n",
    "import matplotlib.pyplot as plt\n",
    "\n",
    "import thinkplot\n",
    "\n",
    "from matplotlib import rc\n",
    "rc('animation', html='html5')"
   ]
  },
  {
   "cell_type": "markdown",
   "metadata": {},
   "source": [
    "## Sand pile"
   ]
  },
  {
   "cell_type": "code",
   "execution_count": 2,
   "metadata": {
    "collapsed": false
   },
   "outputs": [],
   "source": [
    "from Sand import SandPile, SandPileViewer"
   ]
  },
  {
   "cell_type": "markdown",
   "metadata": {},
   "source": []
  },
  {
   "cell_type": "code",
   "execution_count": 3,
   "metadata": {
    "collapsed": false
   },
   "outputs": [
    {
     "name": "stdout",
     "output_type": "stream",
     "text": [
      "[[0 0 0 0 0]\n",
      " [0 5 0 5 0]\n",
      " [0 0 0 0 0]]\n"
     ]
    }
   ],
   "source": [
    "pile = SandPile(3, 5)\n",
    "n, m = pile.array.shape\n",
    "pile.array = np.zeros((n, m), dtype=np.int32)\n",
    "pile.array[n//2, m//2+1] = 5\n",
    "pile.array[n//2, m//2-1] = 5\n",
    "print(pile.array)"
   ]
  },
  {
   "cell_type": "code",
   "execution_count": 4,
   "metadata": {
    "collapsed": false
   },
   "outputs": [
    {
     "name": "stdout",
     "output_type": "stream",
     "text": [
      "2\n",
      "[[0 1 0 1 0]\n",
      " [1 1 2 1 1]\n",
      " [0 1 0 1 0]]\n"
     ]
    }
   ],
   "source": [
    "print(pile.step())\n",
    "print(pile.array)"
   ]
  },
  {
   "cell_type": "code",
   "execution_count": 5,
   "metadata": {
    "collapsed": false
   },
   "outputs": [
    {
     "name": "stdout",
     "output_type": "stream",
     "text": [
      "[[0 0 0 0 0]\n",
      " [0 1 0 1 0]\n",
      " [0 0 0 0 0]]\n"
     ]
    }
   ],
   "source": [
    "print(pile.total)"
   ]
  },
  {
   "cell_type": "code",
   "execution_count": 6,
   "metadata": {
    "collapsed": false
   },
   "outputs": [
    {
     "name": "stdout",
     "output_type": "stream",
     "text": [
      "6\n",
      "[[0 0 0 0 0]\n",
      " [0 1 2 1 0]\n",
      " [0 0 0 0 0]]\n"
     ]
    }
   ],
   "source": [
    "print(pile.sweep())\n",
    "print(pile.array)"
   ]
  },
  {
   "cell_type": "markdown",
   "metadata": {},
   "source": [
    "## Animation"
   ]
  },
  {
   "cell_type": "code",
   "execution_count": 7,
   "metadata": {
    "collapsed": false
   },
   "outputs": [],
   "source": [
    "pile = SandPile(20)\n",
    "viewer = SandPileViewer(pile)"
   ]
  },
  {
   "cell_type": "markdown",
   "metadata": {},
   "source": []
  },
  {
   "cell_type": "code",
   "execution_count": 8,
   "metadata": {
    "collapsed": false
   },
   "outputs": [
    {
     "data": {
      "image/png": "[encoded data removed]",
      "text/plain": [
       "<matplotlib.figure.Figure at 0x7f02f68a2d10>"
      ]
     },
     "metadata": {},
     "output_type": "display_data"
    }
   ],
   "source": [
    "anim = viewer.animate(frames=100)"
   ]
  },
  {
   "cell_type": "markdown",
   "metadata": {},
   "source": []
  },
  {
   "cell_type": "code",
   "execution_count": 9,
   "metadata": {
    "collapsed": false
   },
   "outputs": [
    {
     "data": {
      "text/html": [
       "<video width=\"432.0\" height=\"288.0\" controls autoplay loop>\n",
       "  <source type=\"video/mp4\" src=\"data:video/mp4;base64,AAAAHGZ0eXBNNFYgAAACAGlzb21pc28yYXZjMQAAAAhmcmVlAAAr+21kYXQAAAKtBgX//6ncRem9\n",
       "5tlIt5Ys2CDZI+7veDI2NCAtIGNvcmUgMTQ4IHIyNjQzIDVjNjU3MDQgLSBILjI2NC9NUEVHLTQg\n",
       "QVZDIGNvZGVjIC0gQ29weWxlZnQgMjAwMy0yMDE1IC0gaHR0cDovL3d3dy52aWRlb2xhbi5vcmcv\n",
       "eDI2NC5odG1sIC0gb3B0aW9uczogY2FiYWM9MSByZWY9MyBkZWJsb2NrPTE6MDowIGFuYWx5c2U9\n",
       "MHgzOjB4MTEzIG1lPWhleCBzdWJtZT03IHBzeT0xIHBzeV9yZD0xLjAwOjAuMDAgbWl4ZWRfcmVm\n",
       "PTEgbWVfcmFuZ2U9MTYgY2hyb21hX21lPTEgdHJlbGxpcz0xIDh4OGRjdD0xIGNxbT0wIGRlYWR6\n",
       "b25lPTIxLDExIGZhc3RfcHNraXA9MSBjaHJvbWFfcXBfb2Zmc2V0PS0yIHRocmVhZHM9OSBsb29r\n",
       "YWhlYWRfdGhyZWFkcz0xIHNsaWNlZF90aHJlYWRzPTAgbnI9MCBkZWNpbWF0ZT0xIGludGVybGFj\n",
       "ZWQ9MCBibHVyYXlfY29tcGF0PTAgY29uc3RyYWluZWRfaW50cmE9MCBiZnJhbWVzPTMgYl9weXJh\n",
       "bWlkPTIgYl9hZGFwdD0xIGJfYmlhcz0wIGRpcmVjdD0xIHdlaWdodGI9MSBvcGVuX2dvcD0wIHdl\n",
       "aWdodHA9MiBrZXlpbnQ9MjUwIGtleWludF9taW49NSBzY2VuZWN1dD00MCBpbnRyYV9yZWZyZXNo\n",
       "PTAgcmNfbG9va2FoZWFkPTQwIHJjPWNyZiBtYnRyZWU9MSBjcmY9MjMuMCBxY29tcD0wLjYwIHFw\n",
       "bWluPTAgcXBtYXg9NjkgcXBzdGVwPTQgaXBfcmF0aW89MS40MCBhcT0xOjEuMDAAgAAAIGtliIQA\n",
       "FP/+98dPwKbo+WbLnUU9ITCK2PpIKL1Y7NAydQAAAwAARMDHEW19z/wfGWAo55GmzA+5wTEodEBf\n",
       "kvG2dNFmDBdNSNWT05zAN/1c9dQqvUyAJvtKPv77IDH7qXTQSsnXO//h2ENb10wmzKRgmVX5HDcC\n",
       "NJHas0XIt5nUrrNeSt0v60S365JV4sX/T9BVUdEDfYFRGmr7/3Q0jD7IlEyDEkMQScSs+0BorOkK\n",
       "mylDWN+4zUg5QLmHrk53ifS9CQDR6dQfhSqXk4m55oStEWgFam1iuaP1c6d6CF/59YO0DKWepZWH\n",
       "p8NCTAIpxWxWud2ZCRpOolx+aT7Y1IYt5R/TK0WwEukQnL086hXRj2Ii7/a6qzLMFbigAV1Wq3sx\n",
       "PvVWFxcYLB9DI9oSCqeLUrzMJpAvKCZtC1aUBfPWnToqc+yKBbV3qKZqa1DRV5EZAgvD8MV8TRLD\n",
       "ECHoy57fD86IUn7dHbPuFtzQFDjSPpuYmTe71ADF9JaKi+zPw08DUT2k7TOrw5tt2Jilbn/JzaQR\n",
       "5bu95ej6wQ1/ecsxSpw7ridbxIOLV2Oo14qJD5shJ/7GN3i+1KtxgE3wUzSCGb/JZ+mg5QrjJLKx\n",
       "GPKXmr6n3kh2oM6g0QVfOSB8ccXPO2af+nkme9svQzchCq/fI0kPOgn+PjBmdtPXmOGC0OP1hkRs\n",
       "NLq1bB0hNfTkRWoUoliTuuX19uiy6OZc7Nno1IHbH4y/S1+mRyB4V9I6cKxIL746yU/X8IcRQ/Yj\n",
       "ueuPPDSrtCFEz0/5W+YcAT1UKjHwsQ6CD52roMV0lZa/Yn/8KU3IAjFZTZqlNmlSCSu6r7Mcn0iP\n",
       "tr5pmjxID7cAX3UbIB3qb34SQ+IROkb72xOvbQjKBavbZy8N5SY6ViRQ2ulPIRF0JEAxipuuukwz\n",
       "yg9Wi9BJRoYk06Nu6/L7DQf7pIWNHwWN4N8H2ph0TTrIaAMYheOXhmqEiU5WCODbL1EDPRLjzpyR\n",
       "7yONX4LM6VeJlP09Gv+dbNWKvgf5BQeqHN+AN29rCVRIPlRewkpRIt52W8ajt9eZJzCG6HprEARv\n",
       "XbDEOBVd/iHN9k3cz+729dkqDE9d3Xn+WZtd1IuhVOuzCHLX3oX/LIa8bJZQuLcInsUq1wrJZvE0\n",
       "SYblcUwgM7oGxQdJtfq8HecIsZjn791klS82Hp9FKNqdwmxrq47eNU23QGO/5zMOanQEK6AsJkua\n",
       "Niv9NW8biJBA8Cl5syhw1jj0ZtxGX5Sd/HFgHQHhWv7dFKlQJh1mG+2fIT2GT32wStjQMAcD22rz\n",
       "LISDHUbiGhaPi6jPTG5C7NFMeouZaXnHdG1JZC272a3N2ZDhMmaWsPlXFwybH/RcZ9jCeC/54wvw\n",
       "xpeyEiYYWY8O8xUg5rj7bLEFeTQybbNLzeHUNQ1HlAW65nbhRljwN4FSZ29SQ77Qz8XVHKtzlU2m\n",
       "LsmFKvQjZfQPXGUkBxWD5yDbojk3BYdjaH+/afffZYTrF7PIosBqT2VlzoR0Yy2qcR8PkhKndM+K\n",
       "F5ROczVVDc8/pV2zLLK+Tl9o6ba7qN60Z1myYFY0pCLq7jZbi4WPfEIYjWsofOzO6qzuXnSBFNYF\n",
       "FGQ0iJweRA7hzndnPAqd+KyYkrBw/by7ihmSRCDrzDkHBoGajD5Pfb2j7PnoFIm6OvcIu6RL0nc8\n",
       "sW0K44RPgO/GfPghFeN8kj8PEApqsr/Jd3cz5J6psPTSxrLLxQW95214a9swZmqBMx5IcoPaTF8a\n",
       "RP9QvdGdOXypxFv3hGME3OciaBiCnEqdpTJOXsinQ9Sl9rIHGQqT7mdosp1+7prlHjrBFjDmguGp\n",
       "rLlx1ErRM3FjehLPI+b9Ql5ZMt943AHA5wkP0+OWeryEIjhCC7YNxYP6eOc8CTPu1hsYSaHWkhb1\n",
       "idX7347RmpaNjRDksfseo43yT4HShXcjXX9UKcg8ceagu1MnUgZ7dHQI8UxYEan0+ZcDe+SMBeBc\n",
       "lzSUCZSAnih5tnyQpbz+EAN4l959lTmbENgZsW7XYyVX3u+726HpiCsfLBpTCi3mvC8s3LlJbgWv\n",
       "MGUYmswiY2F5pscHsjERYJnnUfB6bWYKonIlz359Emed6LiFlJrDG/+QsFp3rrC9oIAujsD+fVfX\n",
       "omdtvxcodZ70sP705DRvts1M7oKgQqufd9VnGo9eroVsDSAlDpzqdauY9UuvxsqIQxg+fNmmFHJz\n",
       "K2hJzVip+vjzzjgaBWDZyCx52+eZ157gwdKBIXlcgxJshC67jtVM9C88d4DFZ+pmE3vF3lQywNrJ\n",
       "9Puk016tn5hgYkO4RGurfjEvyn2ujwnS0Xf8lnmpW08qqBgurCWs1o8ZTHKS0hvxoTbt3btuEf5i\n",
       "16E/GShbeGo5c/i+GyhMXlHEXdZLzEaBvPHx6BA9b9U6It5PF7qFH8s7f/VL20WPY2tSW85L3rW3\n",
       "ReNSBLGLaEXqvITyWcapOwVM77OuRP7Z/DYFMQIoUT+jj6ZITU/P2uRBYYiqiqxw0sO42dIgBWfR\n",
       "8d8U9l9IOCvPYnft8WbCRlkGHVxj8eO6tQp7UvSw3PAQ/23OhPCRBLko12Og21V/lTHDHuqvmo6A\n",
       "XTc8Cl0D6zj/7DHNmWDQBCTUt8Ca7ZwWznkLMRVJozpFWF1qwtc98oIuYrezEdG/2gaOgSI5h4CJ\n",
       "/N2srIpX2efF8/fkvMfvkJqGAxqhG98TNMza9B2NLRysvL3oa2bD4Z1FdkuIiykey6VFiGFrYl8E\n",
       "yiuG1Z6a9eUi/9YrTuE32CUvL9QZfDHAWATmFOYTwZWaKsN/CNZvTwfUot43DDw11+XbUNflQEr6\n",
       "fRmsQx9r1JXM+xN0jPwYvpLRVfimb04NjRSHqiYsyxrRn/uE1OcYamiA+MMAJ2EbtkHVMYXvM4d+\n",
       "5f10ovkuBX+Hz36fnMC33yr4JbwHHkTC9dxv0weV8PSc0UJb7b5NJFZ5g3ya/C+tCovh7eTLJO9D\n",
       "Gb94w3VXFeu7AgioHVIdfH7fVzEyGDre8gcTDoJwurlrBdsC0C+OAL2cSEGIY++FGTz6aQpevnES\n",
       "cVFm6OX+hWQcR+afkHG4l8+FJdo8JJZTLQUN6BEmb9xIrxe8lI+6VhqVFk21CXZAgbsASGqhI0FS\n",
       "PWqRl2TWQfUep80nXsnZSZmZathHIzjDaVU8iP2W24Fofd+jPGzkAWqkbipNeu3djLqHFiGCZqsH\n",
       "9vPG7xaiAiy5aM5OKKBuToJ8sCQUP4fyAFfwMDHqMzC8w5rKHGH50w20bJJxgBzAxvPto0r+Z1IC\n",
       "Z5idprslEgmuvoZg7jZhdqkFne/bq2KMZNPgPqdMhcLu6u5yP2PgKbg7PxT4ihcYo7smHrw0aagB\n",
       "AFQHNnjEiAivdfK+yBMQcwgM+L9RFtnue2GZAqZsvy0DvI9rZ1Mnf3zl2UGYbPqxuaOJaoP8tFdD\n",
       "MxzzR8MIG2CV49ehd8Hya7zRfOImDk3WqTFnwzhFrSMMlXPDrEzuDdRweugjDM6Odz21H4bQ5+1q\n",
       "uVcfJhtKGri5XgeeUpZe3C4ACMKUKXZYwbW5dIyaWyUyquBoUhYVGFFUC6H1W8+Qk5Vd0IeoucpH\n",
       "nZYPJw792BE7cnVpSLIpPyAdBhReWMAI+ExXTBM4JVcm/BXlD1+sgRiZD83HzFrkrkASXkfDSSn9\n",
       "MoN5zaWSClQzYDFAPIRIun/vR1YolWOn6dDBN5PCLn5LenW9NbgaC1LUUx8NzQsEXbKK7vTBlt1S\n",
       "Xyubul4Ir21jIDrCzihaxI1r4+ybrAzROEGc/fKMx/MLY3Dg8WI+Jc5Nwk4CHjuCDkpupMWIlgAn\n",
       "bjkm8QUpLnfnKBiDJaP6/lqHUXwf2qZuvMcQVo+Fu0vKkfeuZv2NdNUAmJ3qdido87DoBIJE26SM\n",
       "mKNLlHovQuKfIpkKm9eJbu4Ce96cDPz0QNv93pHbD8+PwCnWvHB2W51BLF4cDH0IIGo02nXLxjtI\n",
       "vAsuRpYU4eIxmePsZBJwx306Knuav/SZ9hbnN21c3Dt9YBXndCN55Q7yWxhqS1M9ipRZRjfb+kUG\n",
       "ihDiWExN5C+kdthSMRuS2+ZREqmuQ2jGH84XxndWAZ15HW+JEnzqXmo2aLQYW6mOr56mSV1A2ra/\n",
       "6I5Nk0VKCjG551lufpKyQ5ZG638t7ZTixq7F04507TrPmZgaib0wsQ5jTVzjCz0J7Fhnr0py5ltj\n",
       "gZMn5POuetnBMqHvOfBEdfKPXeSzeTl6S1r5eQLn/7QxwHIAVpPg4SWbGYtmbm9Xb9sUtY2kGfpW\n",
       "+W8J364gu7WCDe5xJXZz4G3p1ylt8/WkqKX36Pu2XX60NfMceFUZ7WZoO4kbcJ2XkoKieSp0onJk\n",
       "/YcHef48MC3pdoG0pdlzhOy0bfxFk1zSVehrcA8SLTLk5tOU6ewYFp+ijhF2/vooGsHhORrMKiVZ\n",
       "PCBOFJeWY4is8jWQJU0BJPZ8s5DNgwets+IxaLHRH3+9hrn1tcB+ulO2jTAV8v526vFX+eyMPk6G\n",
       "NprIK7EROuBl/XHL0Y8BsfJ5g81AtG+eM4SloD700FpFxnMRTgby8mc1c64qOq/hClHR4ZkJR3C+\n",
       "cUHcF3Ydc/1II/NYDN1YXxwP8ODl60ptmbqjlYXEzLo5+E3h9S2Mpw3K6sjogZop7pT8LkivLrYk\n",
       "x0S2i32cerSBNd0anP9xiUBHIVdnYTcv4a7WMalRENicMFFSHYImdAwBo2F7pBrZ8ytjznGUxAlS\n",
       "wM1d42uroGae14dKxWE0LNUvAqUIfF3WS0xQnNVR2u6UIcjivz5SNqxadFZMsQv+FbM165meR5Nd\n",
       "ssB3vCdU+e8QqwdHX0lMO7yx8vJ/l7bo5V3JEPXuH3dfbHCH3QKskFtUv2nsIbqXMe/Opa3iNzqE\n",
       "MjG2+T8tsszZuqLKWBIuXsV4o4JsnkN7FqVNd0uWcMnH0Rvvx+tdTwBuZtVy/EPMdpuGDRvOpb8v\n",
       "Q8/RISZmhyJu23zqteUloqn0K14b0lZelW6m6HpbDNtswa6i9H6VLjHpQ8XARqg/sR7yyp8dpv0r\n",
       "MEg+Rc7vPRGz8nfH6z58c980t82BwiE96RMq8eGEGKDYAUkUEuVhDw4WoDPZ9Lw80h0vzzJQT9em\n",
       "Vs5/mqdnzPh2deX5FiPLcnUE96kTjDtuaL8OlasQhK3lXxymY8w8XamuQjLMDvfjcijFxyRfaijc\n",
       "LNePicYMp8SnBMltRQh0k495YRZskuYH1y9qUqrb5TN5tAKgMyUh0Ydj3d41Mr0ayDL4kagmoOr4\n",
       "pGhdK+6RklcasexSN52oYjmGRG4Lnv/lU71xcXOupMgzHOxVHV1LjcTHHvY3yj81l8JhpRoTU0Sn\n",
       "7LybiOPicFexTrX3dvqZ46YSlT30yiBMzSdHzoUoiz3S5CX8Fj2b20/EvasU17qmTN2U6HoEgeS+\n",
       "2ywvospngXi9prwCPDJD5N8E6pvIEmAgKOD+e45zwz9KvJcTRf2gexeeGWUP+IKQ75dV2RuRcH1g\n",
       "4WeXhNNfCnNNaCr9eBKb8tx+3hgAACFxJhqnksoTCrlrSOsicybKDcimrYO//jSJ9DAseI1xUTM6\n",
       "Z6jORVYdfONXfhBpGPC/+WXmmFLeHg+O0FEi9iuTu+dgNMo3Pw3x7ji468YpQsQR4ewESI6t5YRd\n",
       "bnOFjDGoffCNawNkI2z9fEi/HsYsubkh1f5KXQzVXAcgxRHa24l6RmWnkHWcww9r2vz4lurODvzs\n",
       "f8MY+UKNCE+CEny3x9eoNhpKdmyEsy2KqkPJ7YwVa533pb4kM7bGI0lR+4MIGflIGYbKoCMOB+T1\n",
       "RAnFqHJ0BJI4guR2rprn4wR+7zF7tK0POgqboCxXc4oIuyRiviPVYPW+JuukZPQNrmo26lPItDAM\n",
       "vEatCtC0i6HCB2sw3Kyc5rIri/47ZXd+VdbCXR/FaNCEZMxzl0M26TovV9xV0Vybm+ghYkHsTfVL\n",
       "fsqBBpMaUo2rL59eMEO31B7hl5sKa5GdMjIYkHCbDx89t6JUp6GIlAnfInzxdTJKPrHIoAC+YATi\n",
       "eRouIPMT3p7AEMpUv2sg7iYnkpjtKXjuHKQ1rHR4BzpwssECIcoOxY/wMBzVBvIU5mKld0D87yVE\n",
       "3K/hyU1o8617soSxXKrC1QqJr6pbH+RdXDNMlIwDsJxUlT7diCsbtVWN//SEKq+qWPcxG+/Dqe85\n",
       "cE/IgGeXUoyRnvq/6TGDAMoJpcits2CZjuUpi6Jp6rn5En1klJ+f3jA7jcfbG95UpjvFGL9XCvWS\n",
       "ivVLtR3CUfkl67ymK7Qv1MfsnbRB3iWn+4o8FdsuPNJhz2Un2F+3X3/C1fNufZTCiLlPgyW3+OdG\n",
       "/2zYeFNWvnGe8MmI0VpXmBRNGxlMjZPmO7XSmvGpQS8HZehh86K9w/SXrzp6lbHcPt6InEbbpRqK\n",
       "XyXpQEg0oA6zrd8LeYBycz24nIjv7wvF6+1qg9BtuLcMC6ywQmnM9ZZ+/I7SprnrytCl7BHeK3v1\n",
       "t2oHzVcZGhTgIHnKQzLIFU87a6OaDHEGCMC7L8Jh3nxSqmOpA0qbFP10Ybo4MRwSaTEKid9hWcIn\n",
       "Cu3czIXvZ6z6bDKYSzKfoLHJy0suTezpDbzPHqLDtj5lin8rliarI/AWK61O2dTyvXsUvW+Z4UE1\n",
       "wyi5hcaFP702nX517emtfTCejNh5JD9mxKddjqAs8pO454rCTBmZfInoJCjJBSiBYhY0yhmDnV3e\n",
       "NJuvYXREvnQOIJVGELymJnO4FMpWWaMOcC9Nu1KUSIg21sUHccE0pfOsNjjg/lG/D3hPoPMr5ljk\n",
       "A/Ft5INqvdu0H/0yIRxhgHWMPKPMZabadaNcQg+GVgnXH0NZspr5j3Enx9ITM0gttRGtlIapUCyT\n",
       "x58jo6jyG0KsNshr8U/nPVrOXh/PcUpxgKckdH3rOjwtcNH/lKUSngq0uJUUOSkbZ+wHgRnLBEO8\n",
       "SLQfAvZhR9FeIy3tXmlTsbrUi75uuM/b42IqagoB44hRYkpAHADIxD/CA3NCQa0hoQRqN5o+VGfU\n",
       "nqElRYjSwx08rCowXeaSxIm1EXbcd8jQGxHO1Mrw5FcZ2IIP3Bgx3Br3tX88TzLbF8GuPy4QPftm\n",
       "7nHMmtAXvdkw47PKKtDWesez55qIWQfSNJtq90r2d1lWEQQesWUwS54Usu6PMylHN7rC1ENehQB7\n",
       "xOcHwIuHybvLziG/ChpGgMve/4zMhXwMQXkTD7fUkGcjh1359jHHkIOMVXlioqNMIqv0keAyQRRf\n",
       "cJeb9+1STc7ajDNDVwZxTr1YjPWS7ZSyjQ26K/LmzNL0E+DD6Vyu0zStbYtEfsY/kfvxneIsmfT0\n",
       "sfnef1urkpPW6xLSvzX5nWdjxqqFHOjtjypaaHPxaasxIi0dbuijwFkTbrGl3axPCUJAt1WVksyb\n",
       "leAt5cs34AA4JqxPYpA0dpg0lItA8pYhtkob+DRTsic8npBXBScRdJadQNHcgmC8728upGMAOf9E\n",
       "eDLb9UnEddDGh15CA98xPMoPFvt6fE5DeSN2Frx0O7CfQDkMCdgcGWnigIvaw3CYCw2higZJ/Kzn\n",
       "XkFe/JbVKmbnX/g2RIx5GoTFnHOQ+/8Udt64rI+cFgwVNmlLmDnket0Pqc4TGfx1tDQkMhvOM0L/\n",
       "1xUTc741CZPcpxKSsHZGih9yds8M1WnBay33Das2YpFVyfYdsfMoOc4n5CLuqsZIpCLn8URkWNaK\n",
       "8xJ15WcTMT+5qA6Bx3k20U+YxmI6TvciYCnqYY8QuEJ9LZ74CUEUn6WnVH0UCMcDSq9cD4Q1CewK\n",
       "NmxRGwrLPSFsKe3Z56AKU7m0oXB9SNes59/99aH9ljhUtQUr/jMwx7RSjjJ+YogOC3M+Y/NJXNAy\n",
       "KlVqzCLKj2HbwIwQGG40Frv+oYvanlJHk6FpXKLhFuquUia0xIRAdT4Y+GDizeg2byckwkW9ldel\n",
       "VQASFIFp2n39F79ciLjT1qPKaVjQytWpUAxSk1u8kDxUgYF1WoFhvdLf9Q/AAOE1tak/ZAvs1LfH\n",
       "Odu1IfwHYxxjOHP186e9yWDEGXIS2lCVpKPb9iAA5xDFqOXZEGZuj8BFsRr0Ky84nvaoEfbeIO2z\n",
       "UnFzY0H4rTlhVJI4Q/QVzrjhQm8zJNTRDfhDo9WECi+41COqTvpkM5M2RJmRLZz2ur6NiZo3Ps4q\n",
       "1+1ObGbF2s6ItzYzaGIG4++10L4xF1NU/GSWI/ov8iO75JRrAg5+O83ylUy+1EmIi4wmEzj3KPkp\n",
       "eMD6fZvdQPrB12mEWyAr+FeQw7l56s8/c8K9uVOu8R8l0JZzNfuqlmAJPVO/E5BDeV26c39+WJ/T\n",
       "XRpgB0v1hebYHSlFtKDrznjq9wW6KBsocHg9J1OBXsn5S7UWTKsYSLZpfcpFDPv0MkXbyzG+bW/a\n",
       "ujkrci9KMzp22vMgQAcbeIuXl6pqA0rRWpk/jDchAMJKOBAtIoBJYSqHK/xvfiQRqfR0ECH4Wznk\n",
       "RiXQQqBxWkfutuX93bl5o33M/uYBr/nN0Cl0hCojnwXC+OVIAKAE0OjcvTpBvt7GHszwslYMbOAO\n",
       "7CKoZLIqPwEjsQpgZnJ4BgWtIvGQxcYCu+hB6c6PQC/Ff7B8+4zyXJWQ0pFJ9RpsKchbB3iIeE9n\n",
       "ukMm9uJVadP2Y1EQ3cE9XvcFGYq3XU17l3DtmD4hfkDrME6wLOm7ea15L8KlTmDQOZb6DT9G2uUC\n",
       "0GQ0Rgxj6P1ytwe0ja1Zk45RQD3tU4FYgz0AaQByOM/C1Fb9RgkYXTVchnW58+dymvOVk/MVPgcC\n",
       "xlUF+r4Bb2SQya9FBbQiL8aDpo/75107NP7iEGqjA0syM/G+OfTsQ9O9eLUCBXC0lgkf7F8ozGwb\n",
       "oN83fdJQSbithjDJyT8lUlO6y4Yzh/ExpTV8FTC8qMnKS20g2/uMQPN/n0Pf/a5OBkI6Qyww0agD\n",
       "lxUMGQOS99WxmXzDVn3zUMQANCbj/yWyaPO3xjpeyQ4YJF/Y1X6gFmxiPtxYXJmctc7GoQeNMjFC\n",
       "ljfpAalm13dFTKMyu6ImwTaxHvtbOlp+O9vxFX572TW3jn9veoId9YexdZBLCwPO5+RJlH9w7ll+\n",
       "won8cnDr8e6bkFBYw/iUv29T1t4TlULf/CPnwuvqx8E6cLESDrvdaoHmyRRv1A8aCgcZ1e5gS2eT\n",
       "JjYyV4f976V3YdED+RwixtMf1jX+qoUyl3C7V6uVECgr0MS2Jw+W94fB8iT8pO1dLfeuQ8LXuNu3\n",
       "dSBIfJhW61Pu1DwCr+eMq4mn9VjydebkrFH9OeRMXA43YwTPz3jmbjhNypNgLUyLt9QHDelAxwy5\n",
       "kMl7ibS9BuLyZyD1JjYhLmcb4bDp6SOqztN8I0eNTMmAkJ18gVb4Lyuk7691Up7YsFwsQEwDICo6\n",
       "F8xdBcGLR7CkHA4//jEUPewJI2Yskv6VZha7ig/YEssKBtzhxLniut4fwZ8oQRo067+KEWr447M3\n",
       "6oZztGiNbgECb+WBrB83orUKzbAAWM6shPm1VOqN1ZmyNCoNv7DfLwSnEczdcrDSdebs17kj6eBZ\n",
       "J8KoyDbqKB8w8Rzzgg3hdyIhXmDe2W5iITK4TfLNDalFLg7aLophb95G/ppEPXcTwdu5NFEtUW4U\n",
       "5q2jSQT4TDlLfW9eJMZDcTu4RhNaIhEIGgKf0ej7ciMbSqoVYquoVXiJ9f/mnq682d3/gvMP5BCg\n",
       "sXhI5InrSUA+9nEhstiLojEclA0b6hMlhArDL8ZjJlHLxunMYTPYlN2ZzEzK++wyJ9HyjthKp57t\n",
       "oIz+eHEaNpl2LPE3USqet9vdBOqeUxGIs9V3LWgVCIJA/z3vbHYrsYV9+loLiMgIeKGoNYM92ndD\n",
       "MFFsScYgckCh77OMTkSywmb80wpm5SUfp598gx+avcyRe3igJvcb//vLEGHwBKFQtfB20BV6CUCp\n",
       "GRH9dAXfTUzpQ2A0FA7Kfgbhl9nHtAOgU4LHPnQ9pyXV61FaHym17SeT9r3xcUA4I7vEfF9+SzAa\n",
       "nOFcucdp8PSTx3Z5Qv5HC2FUuT0+odlisiTEBkClEBU6txyJSInj6lhk8tal2wrwnLjI5vS7S2kj\n",
       "uqiChtSs6CA5ZpUShFvG4Tx6345AoEy8zqNx9N/4/dGNm5T3umniAVam6eINyMOEMYU6q8Erm/X0\n",
       "7L1GLmb375lUItSE0amyFZJM7H3bcV+3WjjLWnj4wICPMFue3+WndMS7kF1lBiqGfDq0XbRVz3sr\n",
       "481bmP4x/JPoGtrNuXxs7a83jN4Ua7S5oihpWpy/T96NNbYF3jDNEmf/da5bAZlE6bCgwmihGXD6\n",
       "IBtVdYRG9kY8q+ymUsRPrCRUmNbqvyO3r0YK34xzllIZ4Bq5wbgnfBf4PWhdayrqxqgQii0845Xq\n",
       "hFC1x7dvjD9Y1NykemUh0uBvhnqxQ1oL20O5abpK/2wP0UxdIH5wCX8k0xiBR1YYME8FNy38sjaN\n",
       "qo2lh/++HEhXT/oFffgreQHZmy7ln9tszYmPXxsRZkiFN1iHG0/ufl4elavGi7zG9iaaKC+ZUQC9\n",
       "/odAZRbU4A82cGd+SxPsKt9n5sKsFdLBdzBtj7AxDRwB01lpUI5A3QacffDi10hdDW7KbzKhLds/\n",
       "HfPgGMttOvj4APOhAXq2N51JZDtgcGU6W4pNx6jVT+HGyUPB94BMCdimlCdjU8BFOWVkziDOYjGO\n",
       "ADDYHTKFt0mBdztInMNQLohU25vzuua0vgIXcbej27kHVwqJPw6wQ87CWARAPlde5VaL6eKnSc7J\n",
       "rAn5ZZbqivxqNADNlmmAAlv03j4mV/w6EFENKv70AhSzKDoh1mch9vNY4mKc5v508DcC8AazFp25\n",
       "qt+mteiPGUdTo3X2J/4KiddF5XwqtYesRXqKaZqoa4mL0XDZNw8/D7qdfTDwLfN8hEV50SYT0Nbp\n",
       "3pnUPSJdmZChCtLwkYtaoT8ADiT3LAsKBGfHgtCort06RnYCAzX38YIRX5547emqHolg5bwdjcds\n",
       "SFk7ASZp4BoDAsa6btRHbkug+GpLm2qSEE2CiGfOqewwIIsmJ5n5yaVejuFkaw9wXPBR5jdktnRd\n",
       "1WJPWVo7Lurp4rU+XmAY/BVzhDDvkc5h/8FcgA4JAAAARkGaJGxBT/7WjLB+o1AAbjdfOGDasCOp\n",
       "ply9yqpNSGn1+J+C66XmUPMufqg2lfFpZZWSDLf+qtST0GA/oro3dIBK6gTGmpAAAAANQZ5CeIIf\n",
       "AGMD1SgCLwAAAA0BnmF0Q/8AySlMUAKmAAAADAGeY2pD/wAAAwBWwQAAACtBmmhJqEFomUwIKf/+\n",
       "1oywB3P4KAGGJFzK9OAm0fXyA7Fbh82nH2gw6/nNAAAADkGehkURLBD/AAADACbhAAAADAGepXRD\n",
       "/wAAAwBWwQAAAAwBnqdqQ/8AAAMAVsAAAAAqQZqsSahBbJlMCCn//taMsAdz+CgBhUKcyvThK5H1\n",
       "8gnZW4e/loWVvA/gAAAADkGeykUVLBD/AAADACbhAAAADAGe6XRD/wAAAwBWwAAAAAwBnutqQ/8A\n",
       "AAMAVsAAAAAqQZrwSahBbJlMCCn//taMsAdz+CgBhiRcyvTgJtH18gOxW4fNpoWWaS/hAAAADkGf\n",
       "DkUVLBD/AAADACbhAAAADAGfLXRD/wAAAwBWwQAAAAwBny9qQ/8AAAMAVsAAAAAqQZs0SahBbJlM\n",
       "CCn//taMsAdz+CgBhUKcyvThK5H18gnZW4e/loWVvA/gAAAADkGfUkUVLBD/AAADACbhAAAADAGf\n",
       "cXRD/wAAAwBWwAAAAAwBn3NqQ/8AAAMAVsAAAAAqQZt4SahBbJlMCCn//taMsAdz+CgBhiRcyvTg\n",
       "JtH18gOxW4fNpoWWaS/hAAAADkGflkUVLBD/AAADACbgAAAADAGftXRD/wAAAwBWwQAAAAwBn7dq\n",
       "Q/8AAAMAVsEAAAAqQZu8SahBbJlMCCn//taMsAdz+CgBhUKcyvThK5H18gnZW4e/loWVvA/gAAAA\n",
       "DkGf2kUVLBD/AAADACbhAAAADAGf+XRD/wAAAwBWwAAAAAwBn/tqQ/8AAAMAVsEAAAAqQZvgSahB\n",
       "bJlMCCn//taMsAdz+CgBhiRcyvTgJtH18gOxW4fNpoWWaS/hAAAADkGeHkUVLBD/AAADACbgAAAA\n",
       "DAGePXRD/wAAAwBWwAAAAAwBnj9qQ/8AAAMAVsEAAAAqQZokSahBbJlMCCn//taMsAdz+CgBhUKc\n",
       "yvThK5H18gnZW4e/loWVvA/gAAAADkGeQkUVLBD/AAADACbhAAAADAGeYXRD/wAAAwBWwAAAAAwB\n",
       "nmNqQ/8AAAMAVsEAAAAqQZpoSahBbJlMCCn//taMsAdz+CgBhiRcyvTgJtH18gOxW4fNpoWWaS/h\n",
       "AAAADkGehkUVLBD/AAADACbhAAAADAGepXRD/wAAAwBWwQAAAAwBnqdqQ/8AAAMAVsAAAAAqQZqs\n",
       "SahBbJlMCCn//taMsAdz+CgBhUKcyvThK5H18gnZW4e/loWVvA/gAAAADkGeykUVLBD/AAADACbh\n",
       "AAAADAGe6XRD/wAAAwBWwAAAAAwBnutqQ/8AAAMAVsAAAAAqQZrwSahBbJlMCCn//taMsAdz+CgB\n",
       "hiRcyvTgJtH18gOxW4fNpoWWaS/hAAAADkGfDkUVLBD/AAADACbhAAAADAGfLXRD/wAAAwBWwQAA\n",
       "AAwBny9qQ/8AAAMAVsAAAAAqQZs0SahBbJlMCCn//taMsAdz+CgBhUKcyvThK5H18gnZW4e/loWV\n",
       "vA/gAAAADkGfUkUVLBD/AAADACbhAAAADAGfcXRD/wAAAwBWwAAAAAwBn3NqQ/8AAAMAVsAAAAAq\n",
       "QZt4SahBbJlMCCn//taMsAdz+CgBhiRcyvTgJtH18gOxW4fNpoWWaS/hAAAADkGflkUVLBD/AAAD\n",
       "ACbgAAAADAGftXRD/wAAAwBWwQAAAAwBn7dqQ/8AAAMAVsEAAAAqQZu8SahBbJlMCCn//taMsAdz\n",
       "+CgBhUKcyvThK5H18gnZW4e/loWVvA/gAAAADkGf2kUVLBD/AAADACbhAAAADAGf+XRD/wAAAwBW\n",
       "wAAAAAwBn/tqQ/8AAAMAVsEAAAAnQZvgSahBbJlMCCn//taMsAdz+CgBhiRcyvTgJtH18gOxW4fN\n",
       "k2qBAAAADkGeHkUVLBD/AAADACbgAAAADAGePXRD/wAAAwBWwAAAAAwBnj9qQ/8AAAMAVsEAAAAn\n",
       "QZokSahBbJlMCCn//taMsAdz+CgBhUKcyvThK5H18gnZW4e/g2qAAAAADkGeQkUVLBD/AAADACbh\n",
       "AAAADAGeYXRD/wAAAwBWwAAAAAwBnmNqQ/8AAAMAVsEAAAAmQZpoSahBbJlMCCn//taMsAdz+CgA\n",
       "9hItSsmXvXUKfaD1vR3qgc0AAAAOQZ6GRRUsEP8AAAMAJuEAAAAMAZ6ldEP/AAADAFbBAAAADAGe\n",
       "p2pD/wAAAwBWwAAAAB9BmqxJqEFsmUwIKf/+1oywB3P4KAD1oU1ENelV0SdqAAAADkGeykUVLBD/\n",
       "AAADACbhAAAADAGe6XRD/wAAAwBWwAAAAAwBnutqQ/8AAAMAVsAAAAAUQZrwSahBbJlMCCn//taM\n",
       "sAAAB90AAAAOQZ8ORRUsEP8AAAMAJuEAAAAMAZ8tdEP/AAADAFbBAAAADAGfL2pD/wAAAwBWwAAA\n",
       "ABRBmzRJqEFsmUwIJ//+tSqAAAAesAAAAA5Bn1JFFSwQ/wAAAwAm4QAAAAwBn3F0Q/8AAAMAVsAA\n",
       "AAAMAZ9zakP/AAADAFbAAAAAFEGbeEmoQWyZTAgn//61KoAAAB6xAAAADkGflkUVLBD/AAADACbg\n",
       "AAAADAGftXRD/wAAAwBWwQAAAAwBn7dqQ/8AAAMAVsEAAAAUQZu8SahBbJlMCCf//rUqgAAAHrAA\n",
       "AAAOQZ/aRRUsEP8AAAMAJuEAAAAMAZ/5dEP/AAADAFbAAAAADAGf+2pD/wAAAwBWwQAAABRBm+BJ\n",
       "qEFsmUwIJf/+tSqAAAAesQAAAA5Bnh5FFSwQ/wAAAwAm4AAAAAwBnj10Q/8AAAMAVsAAAAAMAZ4/\n",
       "akP/AAADAFbBAAAAFUGaI0moQWyZTAh///6plgAAAwDwgAAAAAxBnkJCH/8AAAMAVsEAAAAMAZ5h\n",
       "aRD/AAADAFbAAAAH3m1vb3YAAABsbXZoZAAAAAAAAAAAAAAAAAAAA+gAAE4gAAEAAAEAAAAAAAAA\n",
       "AAAAAAABAAAAAAAAAAAAAAAAAAAAAQAAAAAAAAAAAAAAAAAAQAAAAAAAAAAAAAAAAAAAAAAAAAAA\n",
       "AAAAAAAAAAAAAAIAAAcIdHJhawAAAFx0a2hkAAAAAwAAAAAAAAAAAAAAAQAAAAAAAE4gAAAAAAAA\n",
       "AAAAAAAAAAAAAAABAAAAAAAAAAAAAAAAAAAAAQAAAAAAAAAAAAAAAAAAQAAAAAGwAAABIAAAAAAA\n",
       "JGVkdHMAAAAcZWxzdAAAAAAAAAABAABOIAAAEAAAAQAAAAAGgG1kaWEAAAAgbWRoZAAAAAAAAAAA\n",
       "AAAAAAAAKAAAAyAAVcQAAAAAAC1oZGxyAAAAAAAAAAB2aWRlAAAAAAAAAAAAAAAAVmlkZW9IYW5k\n",
       "bGVyAAAABittaW5mAAAAFHZtaGQAAAABAAAAAAAAAAAAAAAkZGluZgAAABxkcmVmAAAAAAAAAAEA\n",
       "AAAMdXJsIAAAAAEAAAXrc3RibAAAALNzdHNkAAAAAAAAAAEAAACjYXZjMQAAAAAAAAABAAAAAAAA\n",
       "AAAAAAAAAAAAAAGwASAASAAAAEgAAAAAAAAAAQAAAAAAAAAAAAAAAAAAAAAAAAAAAAAAAAAAAAAA\n",
       "AAAAABj//wAAADFhdmNDAWQAFf/hABhnZAAVrNlBsJaEAAADAAQAAAMAKDxYtlgBAAZo6+PLIsAA\n",
       "AAAcdXVpZGtoQPJfJE/FujmlG88DI/MAAAAAAAAAGHN0dHMAAAAAAAAAAQAAAGQAAAgAAAAAFHN0\n",
       "c3MAAAAAAAAAAQAAAAEAAAMwY3R0cwAAAAAAAABkAAAAAQAAEAAAAAABAAAoAAAAAAEAABAAAAAA\n",
       "AQAAAAAAAAABAAAIAAAAAAEAACgAAAAAAQAAEAAAAAABAAAAAAAAAAEAAAgAAAAAAQAAKAAAAAAB\n",
       "AAAQAAAAAAEAAAAAAAAAAQAACAAAAAABAAAoAAAAAAEAABAAAAAAAQAAAAAAAAABAAAIAAAAAAEA\n",
       "ACgAAAAAAQAAEAAAAAABAAAAAAAAAAEAAAgAAAAAAQAAKAAAAAABAAAQAAAAAAEAAAAAAAAAAQAA\n",
       "CAAAAAABAAAoAAAAAAEAABAAAAAAAQAAAAAAAAABAAAIAAAAAAEAACgAAAAAAQAAEAAAAAABAAAA\n",
       "AAAAAAEAAAgAAAAAAQAAKAAAAAABAAAQAAAAAAEAAAAAAAAAAQAACAAAAAABAAAoAAAAAAEAABAA\n",
       "AAAAAQAAAAAAAAABAAAIAAAAAAEAACgAAAAAAQAAEAAAAAABAAAAAAAAAAEAAAgAAAAAAQAAKAAA\n",
       "AAABAAAQAAAAAAEAAAAAAAAAAQAACAAAAAABAAAoAAAAAAEAABAAAAAAAQAAAAAAAAABAAAIAAAA\n",
       "AAEAACgAAAAAAQAAEAAAAAABAAAAAAAAAAEAAAgAAAAAAQAAKAAAAAABAAAQAAAAAAEAAAAAAAAA\n",
       "AQAACAAAAAABAAAoAAAAAAEAABAAAAAAAQAAAAAAAAABAAAIAAAAAAEAACgAAAAAAQAAEAAAAAAB\n",
       "AAAAAAAAAAEAAAgAAAAAAQAAKAAAAAABAAAQAAAAAAEAAAAAAAAAAQAACAAAAAABAAAoAAAAAAEA\n",
       "ABAAAAAAAQAAAAAAAAABAAAIAAAAAAEAACgAAAAAAQAAEAAAAAABAAAAAAAAAAEAAAgAAAAAAQAA\n",
       "KAAAAAABAAAQAAAAAAEAAAAAAAAAAQAACAAAAAABAAAoAAAAAAEAABAAAAAAAQAAAAAAAAABAAAI\n",
       "AAAAAAEAACgAAAAAAQAAEAAAAAABAAAAAAAAAAEAAAgAAAAAAQAAKAAAAAABAAAQAAAAAAEAAAAA\n",
       "AAAAAQAACAAAAAABAAAgAAAAAAEAABAAAAAAAQAAAAAAAAAcc3RzYwAAAAAAAAABAAAAAQAAAGQA\n",
       "AAABAAABpHN0c3oAAAAAAAAAAAAAAGQAACMgAAAASgAAABEAAAARAAAAEAAAAC8AAAASAAAAEAAA\n",
       "ABAAAAAuAAAAEgAAABAAAAAQAAAALgAAABIAAAAQAAAAEAAAAC4AAAASAAAAEAAAABAAAAAuAAAA\n",
       "EgAAABAAAAAQAAAALgAAABIAAAAQAAAAEAAAAC4AAAASAAAAEAAAABAAAAAuAAAAEgAAABAAAAAQ\n",
       "AAAALgAAABIAAAAQAAAAEAAAAC4AAAASAAAAEAAAABAAAAAuAAAAEgAAABAAAAAQAAAALgAAABIA\n",
       "AAAQAAAAEAAAAC4AAAASAAAAEAAAABAAAAAuAAAAEgAAABAAAAAQAAAAKwAAABIAAAAQAAAAEAAA\n",
       "ACsAAAASAAAAEAAAABAAAAAqAAAAEgAAABAAAAAQAAAAIwAAABIAAAAQAAAAEAAAABgAAAASAAAA\n",
       "EAAAABAAAAAYAAAAEgAAABAAAAAQAAAAGAAAABIAAAAQAAAAEAAAABgAAAASAAAAEAAAABAAAAAY\n",
       "AAAAEgAAABAAAAAQAAAAGQAAABAAAAAQAAAAFHN0Y28AAAAAAAAAAQAAACwAAABidWR0YQAAAFpt\n",
       "ZXRhAAAAAAAAACFoZGxyAAAAAAAAAABtZGlyYXBwbAAAAAAAAAAAAAAAAC1pbHN0AAAAJal0b28A\n",
       "AAAdZGF0YQAAAAEAAAAATGF2ZjU3LjQxLjEwMA==\n",
       "\">\n",
       "  Your browser does not support the video tag.\n",
       "</video>"
      ],
      "text/plain": [
       "<matplotlib.animation.FuncAnimation at 0x7fac59ed6350>"
      ]
     },
     "execution_count": 9,
     "metadata": {},
     "output_type": "execute_result"
    }
   ],
   "source": [
    "anim"
   ]
  },
  {
   "cell_type": "code",
   "execution_count": null,
   "metadata": {
    "collapsed": false
   },
   "outputs": [],
   "source": [
    "thinkplot.plot(pile.swept_seq[1:])"
   ]
  },
  {
   "cell_type": "code",
   "execution_count": null,
   "metadata": {
    "collapsed": false
   },
   "outputs": [],
   "source": [
    "thinkplot.plot(pile.toppled_seq)"
   ]
  },
  {
   "cell_type": "code",
   "execution_count": null,
   "metadata": {
    "collapsed": false
   },
   "outputs": [],
   "source": [
    "pile = SandPile(n=20)\n",
    "viewer = SandPileViewer(pile)\n",
    "\n",
    "thinkplot.preplot(cols=3)\n",
    "viewer.step(100)\n",
    "viewer.draw()\n",
    "\n",
    "thinkplot.subplot(2)\n",
    "viewer.step(100)\n",
    "viewer.draw()\n",
    "\n",
    "thinkplot.subplot(3)\n",
    "viewer.step(100)\n",
    "viewer.draw()\n",
    "\n",
    "plt.savefig('chap08-1.pdf')"
   ]
  },
  {
   "cell_type": "markdown",
   "metadata": {},
   "source": [
    "## Long tailed distributions"
   ]
  },
  {
   "cell_type": "code",
   "execution_count": null,
   "metadata": {
    "collapsed": false,
    "scrolled": true
   },
   "outputs": [],
   "source": [
    "n = 50\n",
    "iters = 100000\n",
    "pile = SandPile(n)\n",
    "%time res = [pile.drop_and_run() for _ in range(iters)]"
   ]
  },
  {
   "cell_type": "code",
   "execution_count": null,
   "metadata": {
    "collapsed": true
   },
   "outputs": [],
   "source": [
    "duration, toppled = zip(*res)"
   ]
  },
  {
   "cell_type": "code",
   "execution_count": null,
   "metadata": {
    "collapsed": true
   },
   "outputs": [],
   "source": [
    "S = [s for s in toppled if s>0]"
   ]
  },
  {
   "cell_type": "code",
   "execution_count": null,
   "metadata": {
    "collapsed": false
   },
   "outputs": [],
   "source": [
    "T = [t for t in duration if t>0]"
   ]
  },
  {
   "cell_type": "code",
   "execution_count": null,
   "metadata": {
    "collapsed": false
   },
   "outputs": [],
   "source": [
    "from thinkstats2 import Hist, Cdf\n",
    "\n",
    "hist = Hist(S)\n",
    "thinkplot.Pdf(hist)\n",
    "thinkplot.config(xlabel='Avalanche size',\n",
    "                 ylabel='Number')"
   ]
  },
  {
   "cell_type": "code",
   "execution_count": null,
   "metadata": {
    "collapsed": false
   },
   "outputs": [],
   "source": [
    "x = 5700\n",
    "thinkplot.plot([1, x], [x, 1], color='gray', linewidth=0.5)\n",
    "thinkplot.Pdf(hist, linewidth=0.5)\n",
    "thinkplot.config(xlabel='Avalanche size',\n",
    "                 xlim=[1, 4000],\n",
    "                 ylabel='PMF',\n",
    "                 xscale='log',\n",
    "                 yscale='log')"
   ]
  },
  {
   "cell_type": "code",
   "execution_count": null,
   "metadata": {
    "collapsed": false
   },
   "outputs": [],
   "source": [
    "x = 9000\n",
    "hist = Hist(T)\n",
    "thinkplot.plot([1, x], [x, 1], color='gray', linewidth=0.5)\n",
    "thinkplot.Pdf(hist, linewidth=0.5)\n",
    "thinkplot.config(xlabel='Avalanche duration',\n",
    "                 xlim=[1, 1000],\n",
    "                 ylabel='PMF',\n",
    "                 xscale='log',\n",
    "                 yscale='log')"
   ]
  },
  {
   "cell_type": "markdown",
   "metadata": {},
   "source": [
    "## Fractal?"
   ]
  },
  {
   "cell_type": "code",
   "execution_count": null,
   "metadata": {
    "collapsed": true
   },
   "outputs": [],
   "source": [
    "def count_cells(a):\n",
    "    n, m = a.shape\n",
    "    n = int(min(n, m) / np.sqrt(2))\n",
    "    \n",
    "    res = []\n",
    "    for i in range(10, n):\n",
    "        top = (n-i) // 2\n",
    "        left = (m-i) // 2\n",
    "        box = a[top:top+i, left:left+i]\n",
    "        total = np.sum(box)\n",
    "        res.append((i, i**2, total))\n",
    "        \n",
    "    return res"
   ]
  },
  {
   "cell_type": "code",
   "execution_count": null,
   "metadata": {
    "collapsed": true
   },
   "outputs": [],
   "source": [
    "from scipy.stats import linregress\n",
    "\n",
    "def test_fractal(a, ylabel=''):\n",
    "    res = count_cells(a)\n",
    "    steps, steps2, cells = zip(*res)\n",
    "\n",
    "    thinkplot.plot(steps, steps2, label='d=2', linestyle='dashed')\n",
    "    thinkplot.plot(steps, cells, label='sand pile')\n",
    "    thinkplot.plot(steps, steps, label='d=1', linestyle='dashed')\n",
    "\n",
    "    thinkplot.config(xscale='log', yscale='log',\n",
    "                     xlabel='time steps', ylabel=ylabel,\n",
    "                     xlim=[1, 600], loc='upper left')\n",
    "    \n",
    "    params = linregress(np.log(steps), np.log(cells))\n",
    "    return params[0]"
   ]
  },
  {
   "cell_type": "code",
   "execution_count": null,
   "metadata": {
    "collapsed": false
   },
   "outputs": [],
   "source": [
    "n = 100\n",
    "iters = 4000\n",
    "pile = SandPile(n)\n",
    "%time ks = [pile.drop_and_run() for _ in range(iters)]"
   ]
  },
  {
   "cell_type": "code",
   "execution_count": null,
   "metadata": {
    "collapsed": false
   },
   "outputs": [],
   "source": [
    "viewer = SandPileViewer(pile)\n",
    "viewer.draw()"
   ]
  },
  {
   "cell_type": "code",
   "execution_count": null,
   "metadata": {
    "collapsed": false
   },
   "outputs": [],
   "source": [
    "test_fractal(pile.array==1)"
   ]
  },
  {
   "cell_type": "code",
   "execution_count": null,
   "metadata": {
    "collapsed": false
   },
   "outputs": [],
   "source": [
    "test_fractal(pile.array==2)"
   ]
  },
  {
   "cell_type": "code",
   "execution_count": null,
   "metadata": {
    "collapsed": false
   },
   "outputs": [],
   "source": [
    "test_fractal(pile.array==3)"
   ]
  },
  {
   "cell_type": "markdown",
   "metadata": {},
   "source": [
    "## Single source sand pile"
   ]
  },
  {
   "cell_type": "code",
   "execution_count": 9,
   "metadata": {
    "collapsed": true
   },
   "outputs": [],
   "source": [
    "def tower(pile, factor=2):\n",
    "    a = pile.array\n",
    "    n, m = a.shape\n",
    "    \n",
    "    a[:, :] = 0\n",
    "    a[n//2, m//2] = factor * n * m"
   ]
  },
  {
   "cell_type": "code",
   "execution_count": 10,
   "metadata": {
    "collapsed": false
   },
   "outputs": [],
   "source": [
    "def run_tower_pile(n, factor=2):\n",
    "    pile = SandPile(n)\n",
    "    tower(pile, factor)\n",
    "\n",
    "    while True:\n",
    "        k = pile.step()\n",
    "        if k == 0:\n",
    "            break\n",
    "            \n",
    "    viewer = SandPileViewer(pile)\n",
    "    return pile, viewer"
   ]
  },
  {
   "cell_type": "code",
   "execution_count": 11,
   "metadata": {
    "collapsed": true
   },
   "outputs": [],
   "source": [
    "ss_pile = pile"
   ]
  },
  {
   "cell_type": "code",
   "execution_count": 12,
   "metadata": {
    "collapsed": false
   },
   "outputs": [
    {
     "name": "stdout",
     "output_type": "stream",
     "text": [
      "CPU times: user 6.81 s, sys: 0 ns, total: 6.81 s\n",
      "Wall time: 6.81 s\n"
     ]
    },
    {
     "data": {
      "image/png": "[encoded data removed]",
      "text/plain": [
       "<matplotlib.figure.Figure at 0x7f02f4134710>"
      ]
     },
     "metadata": {},
     "output_type": "display_data"
    }
   ],
   "source": [
    "% time ss_pile, viewer = run_tower_pile(100, factor=2)\n",
    "viewer.draw()"
   ]
  },
  {
   "cell_type": "code",
   "execution_count": 24,
   "metadata": {
    "collapsed": false
   },
   "outputs": [
    {
     "data": {
      "image/png": "[encoded data removed]",
      "text/plain": [
       "<matplotlib.figure.Figure at 0x7f02f3ae8110>"
      ]
     },
     "metadata": {},
     "output_type": "display_data"
    }
   ],
   "source": [
    "viewer.draw()"
   ]
  },
  {
   "cell_type": "code",
   "execution_count": 20,
   "metadata": {
    "collapsed": false
   },
   "outputs": [
    {
     "data": {
      "image/png": "[encoded data removed]",
      "text/plain": [
       "<matplotlib.figure.Figure at 0x7f02f3b8b890>"
      ]
     },
     "metadata": {},
     "output_type": "display_data"
    }
   ],
   "source": [
    "thinkplot.preplot(cols=3)\n",
    "viewer.draw_array(ss_pile.array==1, vmax=1)\n",
    "\n",
    "thinkplot.subplot(2)\n",
    "viewer.draw_array(ss_pile.array==2, vmax=1)\n",
    "\n",
    "thinkplot.subplot(3)\n",
    "viewer.draw_array(ss_pile.array==3, vmax=1)\n",
    "\n",
    "plt.savefig('chap08-2.pdf')"
   ]
  },
  {
   "cell_type": "code",
   "execution_count": null,
   "metadata": {
    "collapsed": false
   },
   "outputs": [],
   "source": [
    "test_fractal(ss_pile.array==1)"
   ]
  },
  {
   "cell_type": "code",
   "execution_count": null,
   "metadata": {
    "collapsed": false
   },
   "outputs": [],
   "source": [
    "test_fractal(ss_pile.array==2)"
   ]
  },
  {
   "cell_type": "code",
   "execution_count": null,
   "metadata": {
    "collapsed": false
   },
   "outputs": [],
   "source": [
    "test_fractal(ss_pile.array==3)"
   ]
  },
  {
   "cell_type": "code",
   "execution_count": null,
   "metadata": {
    "collapsed": false
   },
   "outputs": [],
   "source": [
    "def radial_box_count(a, plot=False):\n",
    "    n, m = a.shape\n",
    "    rows, cols = np.nonzero(a)\n",
    "    indices = np.array([rows, cols])\n",
    "    indices[0] -= n//2\n",
    "    indices[1] -= m//2\n",
    "    distances = np.sum(indices**2, axis=0)**0.5\n",
    "\n",
    "    r = min(n, m) / 2.25\n",
    "    xs = np.arange(10, r)\n",
    "    ys = [np.sum(distances<=x) for x in xs ]\n",
    "    d2 = [np.pi*x**2 for x in xs]\n",
    "    \n",
    "    if plot:\n",
    "        thinkplot.plot(xs, d2, label='d=2')\n",
    "        thinkplot.plot(xs, ys, label='sand pile')\n",
    "        thinkplot.config(xlabel='distance', xscale='log',\n",
    "                         ylabel='number of cells', yscale='log')\n",
    "    \n",
    "    params = linregress(np.log(xs), np.log(ys))\n",
    "    return params[0]"
   ]
  },
  {
   "cell_type": "code",
   "execution_count": null,
   "metadata": {
    "collapsed": false
   },
   "outputs": [],
   "source": [
    "radial_box_count(ss_pile.array == 1)"
   ]
  },
  {
   "cell_type": "code",
   "execution_count": null,
   "metadata": {
    "collapsed": false
   },
   "outputs": [],
   "source": [
    "radial_box_count(ss_pile.array == 2)"
   ]
  },
  {
   "cell_type": "code",
   "execution_count": null,
   "metadata": {
    "collapsed": false
   },
   "outputs": [],
   "source": [
    "radial_box_count(ss_pile.array == 3)"
   ]
  },
  {
   "cell_type": "code",
   "execution_count": null,
   "metadata": {
    "collapsed": false
   },
   "outputs": [],
   "source": [
    "radial_box_count(ss_pile.array > 0)"
   ]
  },
  {
   "cell_type": "code",
   "execution_count": null,
   "metadata": {
    "collapsed": false
   },
   "outputs": [],
   "source": [
    "radial_box_count(pile.array == 1)"
   ]
  },
  {
   "cell_type": "code",
   "execution_count": null,
   "metadata": {
    "collapsed": false
   },
   "outputs": [],
   "source": [
    "radial_box_count(pile.array == 2)"
   ]
  },
  {
   "cell_type": "code",
   "execution_count": null,
   "metadata": {
    "collapsed": false
   },
   "outputs": [],
   "source": [
    "radial_box_count(pile.array == 3)"
   ]
  },
  {
   "cell_type": "code",
   "execution_count": null,
   "metadata": {
    "collapsed": false
   },
   "outputs": [],
   "source": [
    "radial_box_count(pile.array > 0)"
   ]
  },
  {
   "cell_type": "markdown",
   "metadata": {},
   "source": [
    "## Spectral density"
   ]
  },
  {
   "cell_type": "code",
   "execution_count": null,
   "metadata": {
    "collapsed": false
   },
   "outputs": [],
   "source": [
    "from scipy.signal import welch\n",
    "wave = pile.toppled_seq\n",
    "nfft = 2048\n",
    "fs, spectrum = welch(wave, fs=nfft, nfft=nfft)"
   ]
  },
  {
   "cell_type": "code",
   "execution_count": null,
   "metadata": {
    "collapsed": false
   },
   "outputs": [],
   "source": [
    "x = nfft\n",
    "ys = np.array([x**1.63, 1]) / 4e3\n",
    "thinkplot.plot([1, x], ys, color='gray', linewidth=0.5)\n",
    "\n",
    "thinkplot.plot(fs, spectrum)\n",
    "thinkplot.config(xlabel='frequency', xscale='log', xlim=[1, nfft],\n",
    "                 ylabel='power', yscale='log', ylim=[1e-5, 5])"
   ]
  },
  {
   "cell_type": "markdown",
   "metadata": {},
   "source": [
    "## On the other hand"
   ]
  },
  {
   "cell_type": "code",
   "execution_count": null,
   "metadata": {
    "collapsed": false
   },
   "outputs": [],
   "source": [
    "cdf = Cdf(ks)\n",
    "thinkplot.Cdf(cdf)\n",
    "thinkplot.config(xlabel='Avalanche size',\n",
    "                 ylabel='Cdf',\n",
    "                xscale='log')"
   ]
  },
  {
   "cell_type": "code",
   "execution_count": null,
   "metadata": {
    "collapsed": false
   },
   "outputs": [],
   "source": [
    "thinkplot.Cdf(cdf, complement=True)\n",
    "thinkplot.config(xlabel='Avalanche size',\n",
    "                 ylabel='Cdf',\n",
    "                 xscale='log',\n",
    "                 yscale='log')"
   ]
  },
  {
   "cell_type": "code",
   "execution_count": null,
   "metadata": {
    "collapsed": true
   },
   "outputs": [],
   "source": []
  }
 ],
 "metadata": {
  "kernelspec": {
   "display_name": "Python 2",
   "language": "python",
   "name": "python2"
  },
  "language_info": {
   "codemirror_mode": {
    "name": "ipython",
    "version": 2
   },
   "file_extension": ".py",
   "mimetype": "text/x-python",
   "name": "python",
   "nbconvert_exporter": "python",
   "pygments_lexer": "ipython2",
   "version": "2.7.11"
  }
 },
 "nbformat": 4,
 "nbformat_minor": 0
}
